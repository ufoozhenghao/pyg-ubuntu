{
 "cells": [
  {
   "cell_type": "markdown",
   "id": "c7718c17",
   "metadata": {},
   "source": [
    "在本案例研究中，我们使用了匈牙利水痘病例数据集。我们将训练一个回归器，使用循环图卷积网络来预测各县每周报告的病例。\n",
    "\n",
    "首先，我们将加载数据集并创建适当的时空分割。"
   ]
  },
  {
   "cell_type": "code",
   "execution_count": 1,
   "id": "f505fbff",
   "metadata": {},
   "outputs": [],
   "source": [
    "from torch_geometric_temporal.dataset import ChickenpoxDatasetLoader\n",
    "from torch_geometric_temporal.signal import temporal_signal_split\n",
    "\n",
    "loader = ChickenpoxDatasetLoader()\n",
    "\n",
    "dataset = loader.get_dataset()\n",
    "\n",
    "train_dataset, test_dataset = temporal_signal_split(dataset, train_ratio=0.2)"
   ]
  },
  {
   "attachments": {},
   "cell_type": "markdown",
   "id": "abb694ca",
   "metadata": {},
   "source": [
    "在接下来的步骤中，我们将定义用于解决监督任务的递归图神经网络架构。构造函数定义了一个DCRNN层和一个前馈层。\n",
    "重要的是要注意，最终的非线性没有集成到递归图卷积操作中。这个设计原则是一致使用的，它取自PyTorch Geometric。因此，我们手动定义了递归层和线性层之间的ReLU非线性。当我们解决具有零均值目标的回归问题时，最后的线性层不会跟着非线性。"
   ]
  },
  {
   "attachments": {},
   "cell_type": "markdown",
   "id": "bb89d139",
   "metadata": {},
   "source": [
    "<html>\n",
    "<img src=\"./DCRNN.jpg\" width=\"60%\">"
   ]
  },
  {
   "cell_type": "markdown",
   "id": "cd9b8088",
   "metadata": {},
   "source": [
    "import torch\n",
    "import torch.nn.functional as F\n",
    "from torch_geometric_temporal.nn.recurrent import DCRNN\n",
    "\n",
    "class RecurrentGCN(torch.nn.Module):\n",
    "    def __init__(self, node_features):\n",
    "        super(RecurrentGCN, self).__init__()\n",
    "        self.recurrent = DCRNN(node_features, 32, 1)\n",
    "        self.linear = torch.nn.Linear(32, 1)\n",
    "\n",
    "    def forward(self, x, edge_index, edge_weight):\n",
    "        h = self.recurrent(x, edge_index, edge_weight)\n",
    "        h = F.relu(h)\n",
    "        h = self.linear(h)\n",
    "        return h"
   ]
  },
  {
   "cell_type": "markdown",
   "id": "c3709a39",
   "metadata": {},
   "source": [
    "让我们定义一个模型(我们有4个节点特征)，并在训练集(前20%的时间快照)上训练它200个epoch。当每个时间快照的损失累积时，我们进行反向传播。我们将使用学习率为0.01的Adam优化器。tqdm函数用于度量每个训练周期的运行时间需求。"
   ]
  },
  {
   "cell_type": "code",
   "execution_count": 3,
   "id": "e4b8a0a5",
   "metadata": {},
   "outputs": [
    {
     "name": "stderr",
     "output_type": "stream",
     "text": [
      "100%|██████████| 200/200 [00:16<00:00, 11.98it/s]\n"
     ]
    }
   ],
   "source": [
    "from tqdm import tqdm\n",
    "\n",
    "model = RecurrentGCN(node_features = 4)\n",
    "\n",
    "optimizer = torch.optim.Adam(model.parameters(), lr=0.01)\n",
    "\n",
    "model.train()\n",
    "\n",
    "for epoch in tqdm(range(200)):\n",
    "    cost = 0\n",
    "    for time, snapshot in enumerate(train_dataset):\n",
    "        y_hat = model(snapshot.x, snapshot.edge_index, snapshot.edge_attr)\n",
    "        cost = cost + torch.mean((y_hat-snapshot.y)**2)\n",
    "    cost = cost / (time+1)\n",
    "    cost.backward()\n",
    "    optimizer.step()\n",
    "    optimizer.zero_grad()"
   ]
  },
  {
   "cell_type": "markdown",
   "id": "f4767071",
   "metadata": {},
   "source": [
    "让我们定义一个模型(我们有4个节点特征)并使用holdout对其进行训练我们将评估经过训练的递归图卷积网络的性能，并**计算所有空间单元和时间周期的均方误差**。"
   ]
  },
  {
   "cell_type": "code",
   "execution_count": 4,
   "id": "c5d037a8",
   "metadata": {},
   "outputs": [
    {
     "name": "stdout",
     "output_type": "stream",
     "text": [
      "MSE: 1.0308\n"
     ]
    }
   ],
   "source": [
    "model.eval()\n",
    "cost = 0\n",
    "for time, snapshot in enumerate(test_dataset):\n",
    "    y_hat = model(snapshot.x, snapshot.edge_index, snapshot.edge_attr)\n",
    "    cost = cost + torch.mean((y_hat-snapshot.y)**2)\n",
    "cost = cost / (time+1)\n",
    "cost = cost.item()\n",
    "print(\"MSE: {:.4f}\".format(cost))"
   ]
  },
  {
   "cell_type": "code",
   "execution_count": null,
   "id": "45cfda15",
   "metadata": {},
   "outputs": [],
   "source": []
  }
 ],
 "metadata": {
  "kernelspec": {
   "display_name": "pyg",
   "language": "python",
   "name": "envname"
  },
  "language_info": {
   "codemirror_mode": {
    "name": "ipython",
    "version": 3
   },
   "file_extension": ".py",
   "mimetype": "text/x-python",
   "name": "python",
   "nbconvert_exporter": "python",
   "pygments_lexer": "ipython3",
   "version": "3.12.2"
  }
 },
 "nbformat": 4,
 "nbformat_minor": 5
}
