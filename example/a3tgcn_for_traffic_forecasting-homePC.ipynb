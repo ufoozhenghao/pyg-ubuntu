{
 "cells": [
  {
   "cell_type": "code",
   "execution_count": 7,
   "metadata": {
    "ExecuteTime": {
     "end_time": "2024-09-19T11:40:03.222239Z",
     "start_time": "2024-09-19T11:40:03.176813Z"
    },
    "execution": {
     "iopub.execute_input": "2021-12-26T14:44:28.669393Z",
     "iopub.status.busy": "2021-12-26T14:44:28.668621Z",
     "iopub.status.idle": "2021-12-26T14:44:36.833339Z",
     "shell.execute_reply": "2021-12-26T14:44:36.832761Z",
     "shell.execute_reply.started": "2021-12-26T14:27:21.629074Z"
    },
    "papermill": {
     "duration": 8.187854,
     "end_time": "2021-12-26T14:44:36.833462",
     "exception": false,
     "start_time": "2021-12-26T14:44:28.645608",
     "status": "completed"
    },
    "scrolled": true,
    "tags": []
   },
   "outputs": [],
   "source": [
    "import numpy as np\n",
    "import matplotlib.pyplot as plt\n",
    "# import seaborn as sns\n",
    "import networkx as nx\n",
    "\n",
    "import torch\n",
    "import torch.nn.functional as F\n",
    "from torch_geometric.nn import GCNConv\n",
    "from torch_geometric_temporal.nn.recurrent import A3TGCN2\n",
    "from torch_geometric_temporal.signal import temporal_signal_split\n",
    "\n",
    "# GPU support\n",
    "DEVICE = torch.device('cuda') # cuda\n",
    "shuffle=True\n",
    "batch_size = 32"
   ]
  },
  {
   "cell_type": "markdown",
   "metadata": {
    "papermill": {
     "duration": 0.016367,
     "end_time": "2021-12-26T14:44:36.867084",
     "exception": false,
     "start_time": "2021-12-26T14:44:36.850717",
     "status": "completed"
    },
    "tags": []
   },
   "source": [
    "<h1>\n",
    "<center>A3T-GCN: Attention Temporal Graph\n",
    "Convolutional Network for Traffic Forecasting</center>\n",
    "</h1>\n"
   ]
  },
  {
   "cell_type": "markdown",
   "metadata": {
    "papermill": {
     "duration": 0.028442,
     "end_time": "2021-12-26T14:44:36.914189",
     "exception": false,
     "start_time": "2021-12-26T14:44:36.885747",
     "status": "completed"
    },
    "tags": []
   },
   "source": [
    "## Dataset\n",
    "- Traffic forecasting dataset based on Los Angeles Metropolitan traffic \n",
    "- 207 loop detectors on highways\n",
    "- March 2012 - June 2012\n",
    "- From the paper: Diffusion Convolutional Recurrent Neural Network\n",
    "\n",
    "- 一共有207个传感器收集的数据(主要就是速度信息)\n",
    "- 这些传感器在洛杉矶每5分钟收集一次数据"
   ]
  },
  {
   "cell_type": "code",
   "execution_count": 2,
   "metadata": {
    "execution": {
     "iopub.execute_input": "2021-12-26T14:44:36.984196Z",
     "iopub.status.busy": "2021-12-26T14:44:36.983350Z",
     "iopub.status.idle": "2021-12-26T14:44:42.177982Z",
     "shell.execute_reply": "2021-12-26T14:44:42.177369Z",
     "shell.execute_reply.started": "2021-12-26T14:27:29.422377Z"
    },
    "papermill": {
     "duration": 5.23249,
     "end_time": "2021-12-26T14:44:42.178137",
     "exception": false,
     "start_time": "2021-12-26T14:44:36.945647",
     "status": "completed"
    },
    "tags": []
   },
   "outputs": [],
   "source": [
    "import ssl\n",
    "ssl._create_default_https_context = ssl._create_unverified_context\n",
    "import warnings\n",
    "warnings.filterwarnings(\"ignore\", \"is_categorical_dtype\")\n",
    "warnings.filterwarnings(\"ignore\", \"use_inf_as_na\")"
   ]
  },
  {
   "cell_type": "code",
   "execution_count": 3,
   "metadata": {
    "execution": {
     "iopub.execute_input": "2021-12-26T14:44:36.984196Z",
     "iopub.status.busy": "2021-12-26T14:44:36.983350Z",
     "iopub.status.idle": "2021-12-26T14:44:42.177982Z",
     "shell.execute_reply": "2021-12-26T14:44:42.177369Z",
     "shell.execute_reply.started": "2021-12-26T14:27:29.422377Z"
    },
    "papermill": {
     "duration": 5.23249,
     "end_time": "2021-12-26T14:44:42.178137",
     "exception": false,
     "start_time": "2021-12-26T14:44:36.945647",
     "status": "completed"
    },
    "tags": []
   },
   "outputs": [
    {
     "name": "stdout",
     "output_type": "stream",
     "text": [
      "Dataset type:   <torch_geometric_temporal.signal.static_graph_temporal_signal.StaticGraphTemporalSignal object at 0x000001D0A6A31DC0>\n"
     ]
    }
   ],
   "source": [
    "from torch_geometric_temporal.dataset import METRLADatasetLoader\n",
    "loader = METRLADatasetLoader()\n",
    "#输入12个样本点 预测未来12个点的值\n",
    "dataset = loader.get_dataset(num_timesteps_in=12, num_timesteps_out=12)\n",
    "\n",
    "print(\"Dataset type:  \", dataset)"
   ]
  },
  {
   "cell_type": "markdown",
   "metadata": {
    "papermill": {
     "duration": 0.017871,
     "end_time": "2021-12-26T14:44:42.214487",
     "exception": false,
     "start_time": "2021-12-26T14:44:42.196616",
     "status": "completed"
    },
    "tags": []
   },
   "source": [
    "#### Data Sample\n",
    "- 207 nodes 传感器\n",
    "- 2 features per node (speed, time) 每个具有两个特征\n",
    "- 12 timesteps per bucket (12 x 5 min = 60 min) 输入是12个时间点\n",
    "- Labels for 12 future timesteps (normalized speed) --> node regression 标签是未来12个点的速度值\n",
    "- Edge_attr is build based on the distances between sensors + threshold（阈值）\n",
    "- Further details: https://pytorch-geometric-temporal.readthedocs.io/en/latest/_modules/torch_geometric_temporal/dataset/metr_la.html#METRLADatasetLoader\n",
    "- Raw data: https://graphmining.ai/temporal_datasets/METR-LA.zip"
   ]
  },
  {
   "cell_type": "code",
   "execution_count": 4,
   "metadata": {
    "scrolled": true
   },
   "outputs": [
    {
     "name": "stdout",
     "output_type": "stream",
     "text": [
      "Number of samples / sequences:  34249\n",
      "Data(x=[207, 2, 12], edge_index=[2, 1722], edge_attr=[1722], y=[207, 12])\n"
     ]
    }
   ],
   "source": [
    "# 通过遍历来计算样本数量\n",
    "sample_count = sum(1 for _ in dataset)\n",
    "print(\"Number of samples / sequences: \", sample_count)\n",
    "# 数据样例\n",
    "first_sample = next(iter(dataset))\n",
    "print(first_sample)"
   ]
  },
  {
   "cell_type": "markdown",
   "metadata": {},
   "source": [
    "x=[207, 2, 12] ==>> 207个节点（摄像头）；节点的两个特征（speed, time）；两个特征在12个时间序列中的特征值\n",
    "\n",
    "edge_index=[2, 1722] ===>>2：应于边的起点索引和终点索引；1722：图中总共有1722条边\n",
    "\n",
    "edge_attr=[1722] ===>> 每条边的特征值：基于 传感器之间的距离和阈值 构建\n",
    "\n",
    "y=[207, 12]) ===>> 207个节点未来12个点的速度值"
   ]
  },
  {
   "cell_type": "code",
   "execution_count": 5,
   "metadata": {},
   "outputs": [
    {
     "name": "stdout",
     "output_type": "stream",
     "text": [
      "Features of the first node:\n",
      " tensor([[ 0.5332,  0.4486,  0.5146, -2.6522, -2.6522,  0.1847,  0.6383,  0.4961,\n",
      "          0.7497,  0.4899,  0.5751,  0.4280],\n",
      "        [-1.7292, -1.7171, -1.7051, -1.6930, -1.6810, -1.6689, -1.6569, -1.6448,\n",
      "         -1.6328, -1.6207, -1.6087, -1.5966]])\n"
     ]
    }
   ],
   "source": [
    "# X: 查看第一个节点的所有特征\n",
    "print(\"Features of the first node:\\n\", first_sample.x[0, :])"
   ]
  },
  {
   "cell_type": "code",
   "execution_count": 6,
   "metadata": {},
   "outputs": [
    {
     "name": "stdout",
     "output_type": "stream",
     "text": [
      "First sample edge index shape:  torch.Size([2, 1722])\n",
      "First 5 rows of edge index features:\n",
      " tensor([[  0,   0,   0,  ..., 206, 206, 206],\n",
      "        [  0,  13,  37,  ..., 187, 198, 206]])\n"
     ]
    }
   ],
   "source": [
    "# edge index\n",
    "print(\"First sample edge index shape: \", first_sample.edge_index.shape)\n",
    "print(\"First 5 rows of edge index features:\\n\", first_sample.edge_index[:, :])"
   ]
  },
  {
   "cell_type": "code",
   "execution_count": 7,
   "metadata": {},
   "outputs": [
    {
     "name": "stdout",
     "output_type": "stream",
     "text": [
      "First sample target shape:  torch.Size([207, 12])\n",
      "First 1 rows of node features:\n",
      " tensor([[0.3724, 0.2452, 0.4961, 0.6521, 0.1126, 0.5311, 0.5091, 0.4713, 0.4218,\n",
      "         0.3909, 0.4761, 0.5641]])\n"
     ]
    }
   ],
   "source": [
    "# y\n",
    "print(\"First sample target shape: \", first_sample.y.shape)\n",
    "print(\"First 1 rows of node features:\\n\", first_sample.y[:1, :])"
   ]
  },
  {
   "cell_type": "code",
   "execution_count": 8,
   "metadata": {
    "execution": {
     "iopub.execute_input": "2021-12-26T14:44:42.370207Z",
     "iopub.status.busy": "2021-12-26T14:44:42.312179Z",
     "iopub.status.idle": "2021-12-26T14:44:43.852514Z",
     "shell.execute_reply": "2021-12-26T14:44:43.853020Z",
     "shell.execute_reply.started": "2021-12-26T14:27:33.878048Z"
    },
    "papermill": {
     "duration": 1.621518,
     "end_time": "2021-12-26T14:44:43.853164",
     "exception": false,
     "start_time": "2021-12-26T14:44:42.231646",
     "status": "completed"
    },
    "tags": []
   },
   "outputs": [
    {
     "data": {
      "image/png": "[encoded data removed]",
      "text/plain": [
       "<Figure size 640x480 with 1 Axes>"
      ]
     },
     "metadata": {},
     "output_type": "display_data"
    }
   ],
   "source": [
    "# Visualize traffic over time\n",
    "sensor_number = 1\n",
    "hours = 24\n",
    "sensor_labels = [bucket.y[sensor_number][0].item() for bucket in list(dataset)[:hours]]\n",
    "sns.lineplot(data=sensor_labels)\n",
    "plt.show()"
   ]
  },
  {
   "cell_type": "markdown",
   "metadata": {
    "papermill": {
     "duration": 0.033697,
     "end_time": "2021-12-26T14:44:43.929710",
     "exception": false,
     "start_time": "2021-12-26T14:44:43.896013",
     "status": "completed"
    },
    "tags": []
   },
   "source": [
    "# Test Train Split 数据集切分"
   ]
  },
  {
   "cell_type": "code",
   "execution_count": 25,
   "metadata": {
    "execution": {
     "iopub.execute_input": "2021-12-26T14:44:43.982843Z",
     "iopub.status.busy": "2021-12-26T14:44:43.978087Z",
     "iopub.status.idle": "2021-12-26T14:44:45.285472Z",
     "shell.execute_reply": "2021-12-26T14:44:45.286043Z",
     "shell.execute_reply.started": "2021-12-26T14:27:35.470260Z"
    },
    "papermill": {
     "duration": 1.33781,
     "end_time": "2021-12-26T14:44:45.286218",
     "exception": false,
     "start_time": "2021-12-26T14:44:43.948408",
     "status": "completed"
    },
    "tags": []
   },
   "outputs": [
    {
     "name": "stdout",
     "output_type": "stream",
     "text": [
      "Number of train buckets:  27399\n",
      "Number of test buckets:  6850\n",
      "<torch_geometric_temporal.signal.static_graph_temporal_signal.StaticGraphTemporalSignal object at 0x000001D0A6EEBEF0>\n",
      "Data(x=[207, 2, 12], edge_index=[2, 1722], edge_attr=[1722], y=[207, 12])\n"
     ]
    }
   ],
   "source": [
    "train_dataset, test_dataset = temporal_signal_split(dataset, train_ratio=0.8)\n",
    "\n",
    "train_dataset_count = sum(1 for _ in train_dataset)\n",
    "test_dataset_count = sum(1 for _ in test_dataset)\n",
    "\n",
    "print(\"Number of train buckets: \", train_dataset_count)\n",
    "print(\"Number of test buckets: \", test_dataset_count)\n",
    "\n",
    "print(train_dataset)\n",
    "print(next(iter(train_dataset)))"
   ]
  },
  {
   "cell_type": "markdown",
   "metadata": {
    "papermill": {
     "duration": 0.019118,
     "end_time": "2021-12-26T14:44:45.325730",
     "exception": false,
     "start_time": "2021-12-26T14:44:45.306612",
     "status": "completed"
    },
    "tags": []
   },
   "source": [
    "# Creating DataLoaders\n",
    "#### Parameters\n",
    "edge_index (Numpy array) – Index tensor of edges.\n",
    "\n",
    "edge_weight (Numpy array) – Edge weight tensor.\n",
    "\n",
    "features (Sequence of Numpy arrays) – Sequence of node feature tensors.\n",
    "\n",
    "targets (Sequence of Numpy arrays) – Sequence of node label (target) tensors.\n",
    "\n",
    "**kwargs (optional Sequence of Numpy arrays) – Sequence of additional attributes."
   ]
  },
  {
   "cell_type": "code",
   "execution_count": 27,
   "metadata": {
    "execution": {
     "iopub.execute_input": "2021-12-26T14:44:45.374077Z",
     "iopub.status.busy": "2021-12-26T14:44:45.373097Z",
     "iopub.status.idle": "2021-12-26T14:45:16.840268Z",
     "shell.execute_reply": "2021-12-26T14:45:16.839682Z",
     "shell.execute_reply.started": "2021-12-26T14:27:36.727755Z"
    },
    "papermill": {
     "duration": 31.495574,
     "end_time": "2021-12-26T14:45:16.840390",
     "exception": false,
     "start_time": "2021-12-26T14:44:45.344816",
     "status": "completed"
    },
    "tags": []
   },
   "outputs": [
    {
     "name": "stdout",
     "output_type": "stream",
     "text": [
      "train_x_tensor: torch.Size([27399, 207, 2, 12])\n"
     ]
    }
   ],
   "source": [
    "train_input = np.array(train_dataset.features) # (27399, 207, 2, 12)\n",
    "\n",
    "train_target = np.array(train_dataset.targets) # (27399, 207, 12)\n",
    "\n",
    "train_x_tensor = torch.from_numpy(train_input).type(torch.FloatTensor).to(DEVICE)  # (B, N, F, T)\n",
    "\n",
    "train_target_tensor = torch.from_numpy(train_target).type(torch.FloatTensor).to(DEVICE)  # (B, N, T)\n",
    "\n",
    "train_dataset_new = torch.utils.data.TensorDataset(train_x_tensor, train_target_tensor)\n",
    "\n",
    "train_loader = torch.utils.data.DataLoader(train_dataset_new, batch_size=batch_size, shuffle=shuffle,drop_last=True)\n",
    "\n",
    "# print('train_x_tensor:',train_x_tensor.shape)"
   ]
  },
  {
   "cell_type": "code",
   "execution_count": 11,
   "metadata": {
    "execution": {
     "iopub.execute_input": "2021-12-26T14:45:16.886780Z",
     "iopub.status.busy": "2021-12-26T14:45:16.885865Z",
     "iopub.status.idle": "2021-12-26T14:45:17.010178Z",
     "shell.execute_reply": "2021-12-26T14:45:17.009681Z",
     "shell.execute_reply.started": "2021-12-26T14:28:07.974097Z"
    },
    "papermill": {
     "duration": 0.150197,
     "end_time": "2021-12-26T14:45:17.010312",
     "exception": false,
     "start_time": "2021-12-26T14:45:16.860115",
     "status": "completed"
    },
    "tags": []
   },
   "outputs": [],
   "source": [
    "test_input = np.array(test_dataset.features) # (, 207, 2, 12)\n",
    "test_target = np.array(test_dataset.targets) # (, 207, 12)\n",
    "test_x_tensor = torch.from_numpy(test_input).type(torch.FloatTensor).to(DEVICE)  # (B, N, F, T)\n",
    "test_target_tensor = torch.from_numpy(test_target).type(torch.FloatTensor).to(DEVICE)  # (B, N, T)\n",
    "test_dataset_new = torch.utils.data.TensorDataset(test_x_tensor, test_target_tensor)\n",
    "test_loader = torch.utils.data.DataLoader(test_dataset_new, batch_size=batch_size, shuffle=shuffle,drop_last=True)"
   ]
  },
  {
   "cell_type": "markdown",
   "metadata": {
    "papermill": {
     "duration": 0.018593,
     "end_time": "2021-12-26T14:45:17.047998",
     "exception": false,
     "start_time": "2021-12-26T14:45:17.029405",
     "status": "completed"
    },
    "tags": []
   },
   "source": [
    "## Model\n",
    "\n",
    "Which model to choose depends on which time-series task you work on. \n",
    "\n",
    "- A3TGCN is an extension of TGCN that uses attention \n",
    "- The spatial aggregation uses GCN, the temporal aggregation a GRU\n",
    "- We can pass in periods to get an embedding for several timesteps\n",
    "- This embedding can be used to predict several steps into the future = output dimension\n",
    "- We could also do this in a loop and feed it again into the model (would be autoregressive)\n",
    "- There is only one block here. Other layers also allow stacking???\n",
    "\n",
    "<html>\n",
    "<img src=\"https://i.ibb.co/WxrJQbc/a3tgcn.png\", height=\"300\"></img>"
   ]
  },
  {
   "cell_type": "markdown",
   "metadata": {
    "papermill": {
     "duration": 0.018337,
     "end_time": "2021-12-26T14:45:17.085185",
     "exception": false,
     "start_time": "2021-12-26T14:45:17.066848",
     "status": "completed"
    },
    "tags": []
   },
   "source": [
    "# TGCN model\n",
    "A temporal GCN (T-GCN) model was constructed by combining GCN and GRU. \n",
    "\n",
    "n historical time series traffic data were inputted into the T-GCN model to obtain n hidden states (h) that covered spatiotemporal characteristics:{h(t−n), · · · , h(t−1), h(t)}\n",
    "\n",
    "\n",
    "ut = σ(Wu ∗ (GC(A, Xt), ht−1)) \n",
    "\n",
    "rt = σ(Wr ∗ (GC(A, Xt), ht−1)) \n",
    "\n",
    "ct = tanh(Wc ∗ (GC(A, Xt), (rt ∗ ht−1)))\n",
    "\n",
    "ht = ut ∗ ht−1 + (1 − ut) ∗ ct) \n",
    "\n",
    "\n",
    "Then, the hidden states were inputted into the attention model to determine the context vector that covers the global traffic variation information. Particularly, the weight of each h was calculated by Softmax using a multilayer perception:{at−n, · · · , at−1, at}.The context vector that covers global traffic variation information is calculated by the weighted sum. \n"
   ]
  },
  {
   "cell_type": "markdown",
   "metadata": {
    "papermill": {
     "duration": 0.018547,
     "end_time": "2021-12-26T14:45:17.122157",
     "exception": false,
     "start_time": "2021-12-26T14:45:17.103610",
     "status": "completed"
    },
    "tags": []
   },
   "source": [
    "# A3TGCN Model\n",
    "The A3TGCN is an extention of the TGCN model by adding an attention mechanism.\n",
    "\n",
    "The attention mechanism was introduced to re-weight the influence of historical traffic states and thus to capture the global variation trends of traffic state"
   ]
  },
  {
   "cell_type": "code",
   "execution_count": 12,
   "metadata": {
    "execution": {
     "iopub.execute_input": "2021-12-26T14:45:17.167230Z",
     "iopub.status.busy": "2021-12-26T14:45:17.166722Z",
     "iopub.status.idle": "2021-12-26T14:45:17.181682Z",
     "shell.execute_reply": "2021-12-26T14:45:17.181219Z",
     "shell.execute_reply.started": "2021-12-26T14:28:08.105670Z"
    },
    "papermill": {
     "duration": 0.041032,
     "end_time": "2021-12-26T14:45:17.181766",
     "exception": false,
     "start_time": "2021-12-26T14:45:17.140734",
     "status": "completed"
    },
    "tags": []
   },
   "outputs": [
    {
     "data": {
      "text/plain": [
       "TemporalGNN(\n",
       "  (tgnn): A3TGCN2(\n",
       "    (_base_tgcn): TGCN2(\n",
       "      (conv_z): GCNConv(2, 32)\n",
       "      (linear_z): Linear(in_features=64, out_features=32, bias=True)\n",
       "      (conv_r): GCNConv(2, 32)\n",
       "      (linear_r): Linear(in_features=64, out_features=32, bias=True)\n",
       "      (conv_h): GCNConv(2, 32)\n",
       "      (linear_h): Linear(in_features=64, out_features=32, bias=True)\n",
       "    )\n",
       "  )\n",
       "  (linear): Linear(in_features=32, out_features=12, bias=True)\n",
       ")"
      ]
     },
     "execution_count": 12,
     "metadata": {},
     "output_type": "execute_result"
    }
   ],
   "source": [
    "class TemporalGNN(torch.nn.Module):\n",
    "    def __init__(self, node_features, periods, batch_size):\n",
    "        super(TemporalGNN, self).__init__()\n",
    "        # Attention Temporal Graph Convolutional Cell\n",
    "        self.tgnn = A3TGCN2(in_channels=node_features,  out_channels=32, periods=periods,batch_size=batch_size) # node_features=2, periods=12\n",
    "        # Equals single-shot prediction\n",
    "        self.linear = torch.nn.Linear(32, periods)\n",
    "\n",
    "    def forward(self, x, edge_index):\n",
    "        \"\"\"\n",
    "        x = Node features for T time steps\n",
    "        edge_index = Graph edge indices\n",
    "        \"\"\"\n",
    "        h = self.tgnn(x, edge_index) # x [b, 207, 2, 12]  returns h [b, 207, 12]\n",
    "        h = F.relu(h) \n",
    "        h = self.linear(h)\n",
    "        return h\n",
    "    \n",
    "#预测未来的12个值\n",
    "TemporalGNN(node_features=2, periods=12, batch_size=2)"
   ]
  },
  {
   "cell_type": "markdown",
   "metadata": {
    "papermill": {
     "duration": 0.01927,
     "end_time": "2021-12-26T14:45:17.220204",
     "exception": false,
     "start_time": "2021-12-26T14:45:17.200934",
     "status": "completed"
    },
    "tags": []
   },
   "source": [
    "## Training"
   ]
  },
  {
   "cell_type": "code",
   "execution_count": 13,
   "metadata": {
    "execution": {
     "iopub.execute_input": "2021-12-26T14:45:17.274663Z",
     "iopub.status.busy": "2021-12-26T14:45:17.273722Z",
     "iopub.status.idle": "2021-12-26T14:45:17.301756Z",
     "shell.execute_reply": "2021-12-26T14:45:17.300951Z",
     "shell.execute_reply.started": "2021-12-25T23:05:32.708582Z"
    },
    "papermill": {
     "duration": 0.059799,
     "end_time": "2021-12-26T14:45:17.301931",
     "exception": false,
     "start_time": "2021-12-26T14:45:17.242132",
     "status": "completed"
    },
    "tags": []
   },
   "outputs": [
    {
     "name": "stdout",
     "output_type": "stream",
     "text": [
      "Net's state_dict:\n",
      "tgnn._attention \t torch.Size([12])\n",
      "tgnn._base_tgcn.conv_z.bias \t torch.Size([32])\n",
      "tgnn._base_tgcn.conv_z.lin.weight \t torch.Size([32, 2])\n",
      "tgnn._base_tgcn.linear_z.weight \t torch.Size([32, 64])\n",
      "tgnn._base_tgcn.linear_z.bias \t torch.Size([32])\n",
      "tgnn._base_tgcn.conv_r.bias \t torch.Size([32])\n",
      "tgnn._base_tgcn.conv_r.lin.weight \t torch.Size([32, 2])\n",
      "tgnn._base_tgcn.linear_r.weight \t torch.Size([32, 64])\n",
      "tgnn._base_tgcn.linear_r.bias \t torch.Size([32])\n",
      "tgnn._base_tgcn.conv_h.bias \t torch.Size([32])\n",
      "tgnn._base_tgcn.conv_h.lin.weight \t torch.Size([32, 2])\n",
      "tgnn._base_tgcn.linear_h.weight \t torch.Size([32, 64])\n",
      "tgnn._base_tgcn.linear_h.bias \t torch.Size([32])\n",
      "linear.weight \t torch.Size([12, 32])\n",
      "linear.bias \t torch.Size([12])\n",
      "Net's total params: 6936\n",
      "Optimizer's state_dict:\n",
      "state \t {}\n",
      "param_groups \t [{'lr': 0.001, 'betas': (0.9, 0.999), 'eps': 1e-08, 'weight_decay': 0, 'amsgrad': False, 'maximize': False, 'foreach': None, 'capturable': False, 'differentiable': False, 'fused': None, 'params': [0, 1, 2, 3, 4, 5, 6, 7, 8, 9, 10, 11, 12, 13, 14]}]\n"
     ]
    }
   ],
   "source": [
    "# Create model and optimizers\n",
    "model = TemporalGNN(node_features=2, periods=12, batch_size=batch_size).to(DEVICE)\n",
    "optimizer = torch.optim.Adam(model.parameters(), lr=0.001)\n",
    "loss_fn = torch.nn.MSELoss()\n",
    "\n",
    "\n",
    "print('Net\\'s state_dict:')\n",
    "total_param = 0\n",
    "for param_tensor in model.state_dict():\n",
    "    print(param_tensor, '\\t', model.state_dict()[param_tensor].size())\n",
    "    total_param += np.prod(model.state_dict()[param_tensor].size())\n",
    "print('Net\\'s total params:', total_param)\n",
    "#--------------------------------------------------\n",
    "print('Optimizer\\'s state_dict:')\n",
    "for var_name in optimizer.state_dict():\n",
    "    print(var_name, '\\t', optimizer.state_dict()[var_name])"
   ]
  },
  {
   "cell_type": "markdown",
   "metadata": {
    "papermill": {
     "duration": 0.020038,
     "end_time": "2021-12-26T14:45:17.343900",
     "exception": false,
     "start_time": "2021-12-26T14:45:17.323862",
     "status": "completed"
    },
    "tags": []
   },
   "source": [
    "# Loading the graph once \n",
    "because it's a static graph"
   ]
  },
  {
   "cell_type": "code",
   "execution_count": 14,
   "metadata": {
    "execution": {
     "iopub.execute_input": "2021-12-26T14:45:17.387739Z",
     "iopub.status.busy": "2021-12-26T14:45:17.387103Z",
     "iopub.status.idle": "2021-12-26T14:45:17.390422Z",
     "shell.execute_reply": "2021-12-26T14:45:17.389947Z",
     "shell.execute_reply.started": "2021-12-25T23:05:32.742421Z"
    },
    "papermill": {
     "duration": 0.026807,
     "end_time": "2021-12-26T14:45:17.390513",
     "exception": false,
     "start_time": "2021-12-26T14:45:17.363706",
     "status": "completed"
    },
    "tags": []
   },
   "outputs": [],
   "source": [
    "for snapshot in train_dataset:\n",
    "    static_edge_index = snapshot.edge_index.to(DEVICE)\n",
    "    break;"
   ]
  },
  {
   "cell_type": "code",
   "execution_count": 20,
   "metadata": {
    "execution": {
     "iopub.execute_input": "2021-12-26T14:45:17.437982Z",
     "iopub.status.busy": "2021-12-26T14:45:17.437484Z",
     "iopub.status.idle": "2021-12-26T14:46:13.161937Z",
     "shell.execute_reply": "2021-12-26T14:46:13.161017Z",
     "shell.execute_reply.started": "2021-12-25T23:05:32.751777Z"
    },
    "papermill": {
     "duration": 55.751589,
     "end_time": "2021-12-26T14:46:13.162096",
     "exception": false,
     "start_time": "2021-12-26T14:45:17.410507",
     "status": "completed"
    },
    "tags": []
   },
   "outputs": [
    {
     "data": {
      "application/vnd.jupyter.widget-view+json": {
       "model_id": "508dc7950f9d467b9e574f9a7e872d7b",
       "version_major": 2,
       "version_minor": 0
      },
      "text/plain": [
       "Epochs:   0%|          | 0/10 [00:00<?, ?it/s]"
      ]
     },
     "metadata": {},
     "output_type": "display_data"
    },
    {
     "name": "stdout",
     "output_type": "stream",
     "text": [
      "0.4228931361436844\n",
      "0.43394079595804214\n",
      "0.4362882168094317\n",
      "0.4372653069347143\n",
      "0.44152264404296876\n",
      "0.44286652659376463\n",
      "0.4434243550470897\n",
      "0.4447689437493682\n",
      "Epoch 0 train MSE: 0.4423\n",
      "0.437904514670372\n",
      "0.4481500431895256\n",
      "0.4442126742998759\n",
      "0.445406624302268\n",
      "0.4440049990415573\n",
      "0.44347162038087845\n",
      "0.44473747049059187\n",
      "0.4421018037945032\n",
      "Epoch 1 train MSE: 0.4423\n",
      "0.4407471325993538\n",
      "0.44693248480558395\n",
      "0.4474923066298167\n",
      "0.4477033820003271\n",
      "0.4462487238645554\n",
      "0.4414016616841157\n",
      "0.4427385015147073\n",
      "0.4428887842223048\n",
      "Epoch 2 train MSE: 0.4425\n",
      "0.4430389130115509\n",
      "0.4350713428109884\n",
      "0.44539299353957174\n",
      "0.4480171151086688\n",
      "0.44475149047374724\n",
      "0.4445342809955279\n",
      "0.44184135177305767\n",
      "0.44213460363447665\n",
      "Epoch 3 train MSE: 0.4423\n",
      "0.44559069752693176\n",
      "0.4538287082314491\n",
      "0.4485314890742302\n",
      "0.4480685770511627\n",
      "0.44462179505825045\n",
      "0.44384606103102364\n",
      "0.44376107741679466\n",
      "0.44505127491429447\n",
      "Epoch 4 train MSE: 0.4425\n",
      "0.42877707198262216\n",
      "0.42843452133238313\n",
      "0.4389013940592607\n",
      "0.4421517600491643\n",
      "0.44004563602805136\n",
      "0.4416612125436465\n",
      "0.44369303205183575\n",
      "0.443460847530514\n",
      "Epoch 5 train MSE: 0.4423\n",
      "0.440773021876812\n",
      "0.4457831334322691\n",
      "0.44194577957193054\n",
      "0.4431984383240342\n",
      "0.44416971173882486\n",
      "0.4451059044649204\n",
      "0.4437671899156911\n",
      "0.44298483001068234\n",
      "Epoch 6 train MSE: 0.4424\n",
      "0.4492514154314995\n",
      "0.44730450145900247\n",
      "0.4417076064646244\n",
      "0.44514981385320423\n",
      "0.44475051417946815\n",
      "0.4467274228483438\n",
      "0.4434809039107391\n",
      "0.4408932760171592\n",
      "Epoch 7 train MSE: 0.4422\n",
      "0.4298590779304504\n",
      "0.4334620648622513\n",
      "0.43929687996705374\n",
      "0.43533150777220725\n",
      "0.43675791400671005\n",
      "0.43969703674316407\n",
      "0.4409331273819719\n",
      "0.44187859999015927\n",
      "Epoch 8 train MSE: 0.4424\n",
      "0.4459226611256599\n",
      "0.4463800084590912\n",
      "0.4408759331703186\n",
      "0.4408540666848421\n",
      "0.44073811000585555\n",
      "0.43836206073562306\n",
      "0.43818715670279096\n",
      "0.44081433184444907\n",
      "Epoch 9 train MSE: 0.4422\n"
     ]
    }
   ],
   "source": [
    "model.train()\n",
    "\n",
    "from tqdm.notebook import tqdm, trange\n",
    "\n",
    "all_epoch_loss_list = []\n",
    "# 循环遍历10个训练周期（epoch）。每个epoch都会遍历整个训练数据集一次\n",
    "for epoch in tqdm(range(10),desc='Epochs'):\n",
    "    step = 0\n",
    "    loss_list = []\n",
    "    # 循环遍历训练数据集中的每个样本（或称为快照）\n",
    "    for encoder_inputs, labels in train_loader:\n",
    "        # Get model predictions 模型的前向传递\n",
    "        y_hat = model(encoder_inputs, static_edge_index)\n",
    "        # 计算当前批次的均方误差（MSE）\n",
    "        loss = loss_fn(y_hat, labels) # Mean squared error #loss = torch.mean((y_hat-labels)**2)  sqrt to change it to rmse\n",
    "        # 反向传播。通过计算损失函数相对于模型参数的梯度来更新模型的权重。告诉模型如何通过调整参数来减少损失。\n",
    "        loss.backward()\n",
    "        # 更新模型的参数。在这一步中，优化器（optimizer）根据之前计算的梯度来更新模型的权重。\n",
    "        optimizer.step()\n",
    "        # 清零梯度。梯度会在每次.backward()调用时累积，因此在下一次迭代前需要手动清零。这确保了每次迭代的梯度计算只基于最新的一次迭代，而不是之前迭代的累积结果。\n",
    "        optimizer.zero_grad()\n",
    "        step= step+ 1\n",
    "        loss_list.append(loss.item())\n",
    "#         if step % 100 == 0 :\n",
    "#             print(sum(loss_list)/len(loss_list))\n",
    "    print(\"Epoch {} train MSE: {:.4f}\".format(epoch, sum(loss_list)/len(loss_list)))\n",
    "    all_epoch_loss_list.append(round(sum(loss_list)/len(loss_list),4))"
   ]
  },
  {
   "cell_type": "markdown",
   "metadata": {},
   "source": [
    "####  一个训练周期\n",
    "- 0.7708807644248009\n",
    "- 0.6375201033055782\n",
    "- 0.5856399086117744\n",
    "- 0.5634653544425965\n",
    "- 0.5497353087067605\n",
    "- 0.5394426196813583\n",
    "- 0.5290417250990868\n",
    "- 0.521105626411736\n",
    "\n",
    "Epoch 0 train RMSE: 0.5200\n",
    "\n",
    "Test MSE: 0.6012"
   ]
  },
  {
   "cell_type": "code",
   "execution_count": 21,
   "metadata": {
    "papermill": {
     "duration": 0.021991,
     "end_time": "2021-12-26T14:46:13.206348",
     "exception": false,
     "start_time": "2021-12-26T14:46:13.184357",
     "status": "completed"
    },
    "tags": []
   },
   "outputs": [
    {
     "data": {
      "image/png": "[encoded data removed]",
      "text/plain": [
       "<Figure size 640x480 with 1 Axes>"
      ]
     },
     "metadata": {},
     "output_type": "display_data"
    }
   ],
   "source": [
    "sns.lineplot(data=all_epoch_loss_list)\n",
    "plt.show()"
   ]
  },
  {
   "cell_type": "markdown",
   "metadata": {
    "papermill": {
     "duration": 0.022713,
     "end_time": "2021-12-26T14:46:13.250898",
     "exception": false,
     "start_time": "2021-12-26T14:46:13.228185",
     "status": "completed"
    },
    "tags": []
   },
   "source": [
    "## Evaluation\n",
    "\n",
    "- Lets get some sample predictions for a specific horizon (e.g. 288/12 = 24 hours)\n",
    "- The model always gets one hour and needs to predict the next hour"
   ]
  },
  {
   "cell_type": "code",
   "execution_count": 22,
   "metadata": {
    "execution": {
     "iopub.execute_input": "2021-12-26T14:46:13.301157Z",
     "iopub.status.busy": "2021-12-26T14:46:13.300285Z",
     "iopub.status.idle": "2021-12-26T14:46:23.410533Z",
     "shell.execute_reply": "2021-12-26T14:46:23.411181Z",
     "shell.execute_reply.started": "2021-12-25T22:37:06.708018Z"
    },
    "papermill": {
     "duration": 10.1385,
     "end_time": "2021-12-26T14:46:23.411366",
     "exception": false,
     "start_time": "2021-12-26T14:46:13.272866",
     "status": "completed"
    },
    "tags": []
   },
   "outputs": [
    {
     "name": "stdout",
     "output_type": "stream",
     "text": [
      "Test MSE: 0.5444\n"
     ]
    }
   ],
   "source": [
    "# 将模型设置为评估模式\n",
    "model.eval()\n",
    "step = 0\n",
    "# Store for analysis\n",
    "total_loss = []\n",
    "for encoder_inputs, labels in test_loader:\n",
    "    # Get model predictions\n",
    "    y_hat = model(encoder_inputs, static_edge_index)\n",
    "    # Mean squared error\n",
    "    loss = loss_fn(y_hat, labels)\n",
    "    total_loss.append(loss.item())\n",
    "    # Store for analysis below\n",
    "    #test_labels.append(labels)\n",
    "    #predictions.append(y_hat)\n",
    "    \n",
    "\n",
    "print(\"Test MSE: {:.4f}\".format(sum(total_loss)/len(total_loss)))"
   ]
  },
  {
   "cell_type": "markdown",
   "metadata": {
    "papermill": {
     "duration": 0.021809,
     "end_time": "2021-12-26T14:46:23.456452",
     "exception": false,
     "start_time": "2021-12-26T14:46:23.434643",
     "status": "completed"
    },
    "tags": []
   },
   "source": [
    "### Visualization\n",
    "\n",
    "- The further away the point in time is, the worse the predictions get\n",
    "- Predictions shape: [num_data_points, num_sensors, num_timesteps]"
   ]
  },
  {
   "cell_type": "code",
   "execution_count": 29,
   "metadata": {
    "execution": {
     "iopub.execute_input": "2021-12-26T14:46:23.506391Z",
     "iopub.status.busy": "2021-12-26T14:46:23.505530Z",
     "iopub.status.idle": "2021-12-26T14:46:23.511700Z",
     "shell.execute_reply": "2021-12-26T14:46:23.512123Z",
     "shell.execute_reply.started": "2021-12-25T19:05:28.569378Z"
    },
    "papermill": {
     "duration": 0.0341,
     "end_time": "2021-12-26T14:46:23.512227",
     "exception": false,
     "start_time": "2021-12-26T14:46:23.478127",
     "status": "completed"
    },
    "tags": []
   },
   "outputs": [
    {
     "name": "stdout",
     "output_type": "stream",
     "text": [
      "Data points:, (32,)\n",
      "y_hat: torch.Size([32, 207, 12])\n"
     ]
    }
   ],
   "source": [
    "sensor = 123\n",
    "timestep = 11\n",
    "# y_hat: torch.Size([32, 207, 12])\n",
    "preds = np.asarray([pred[sensor][timestep].detach().cpu().numpy() for pred in y_hat])\n",
    "labs  = np.asarray([label[sensor][timestep].cpu().numpy() for label in labels])\n",
    "print(\"Data points:,\", preds.shape)\n",
    "\n",
    "print('y_hat:',y_hat.shape)"
   ]
  },
  {
   "cell_type": "code",
   "execution_count": 19,
   "metadata": {
    "execution": {
     "iopub.execute_input": "2021-12-26T14:46:23.572365Z",
     "iopub.status.busy": "2021-12-26T14:46:23.571817Z",
     "iopub.status.idle": "2021-12-26T14:46:23.787013Z",
     "shell.execute_reply": "2021-12-26T14:46:23.786488Z",
     "shell.execute_reply.started": "2021-12-25T19:05:29.188303Z"
    },
    "papermill": {
     "duration": 0.251559,
     "end_time": "2021-12-26T14:46:23.787119",
     "exception": false,
     "start_time": "2021-12-26T14:46:23.535560",
     "status": "completed"
    },
    "scrolled": true,
    "tags": []
   },
   "outputs": [
    {
     "data": {
      "image/png": "[encoded data removed]",
      "text/plain": [
       "<Figure size 2000x500 with 1 Axes>"
      ]
     },
     "metadata": {},
     "output_type": "display_data"
    }
   ],
   "source": [
    "plt.figure(figsize=(20,5))\n",
    "plt.ylabel('MSE')  # y轴标签\n",
    "plt.xlabel('time forecasting (min)')  # y轴标签\n",
    "sns.lineplot(data=preds, label=\"pred\")\n",
    "sns.lineplot(data=labs, label=\"true\")\n",
    "plt.show()"
   ]
  },
  {
   "cell_type": "code",
   "execution_count": null,
   "metadata": {
    "papermill": {
     "duration": 0.023746,
     "end_time": "2021-12-26T14:46:23.836554",
     "exception": false,
     "start_time": "2021-12-26T14:46:23.812808",
     "status": "completed"
    },
    "tags": []
   },
   "outputs": [],
   "source": []
  }
 ],
 "metadata": {
  "kernelspec": {
   "display_name": "Python 3 (ipykernel)",
   "language": "python",
   "name": "python3"
  },
  "language_info": {
   "codemirror_mode": {
    "name": "ipython",
    "version": 3
   },
   "file_extension": ".py",
   "mimetype": "text/x-python",
   "name": "python",
   "nbconvert_exporter": "python",
   "pygments_lexer": "ipython3",
   "version": "3.10.12"
  },
  "papermill": {
   "duration": 159.672275,
   "end_time": "2021-12-26T14:46:24.067327",
   "environment_variables": {},
   "exception": null,
   "input_path": "__notebook__.ipynb",
   "output_path": "__notebook__.ipynb",
   "parameters": {},
   "start_time": "2021-12-26T14:43:44.395052",
   "version": "2.1.0"
  }
 },
 "nbformat": 4,
 "nbformat_minor": 4
}
