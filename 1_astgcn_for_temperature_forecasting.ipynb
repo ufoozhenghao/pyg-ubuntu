{
 "cells": [
  {
   "metadata": {},
   "cell_type": "raw",
   "source": [
    "!python -c \"import torch; print(torch.__version__)\"\n",
    "!python -c \"import torch; print(torch.version.cuda)\"\n",
    "import sys\n",
    "print(\"Python version\")\n",
    "print(sys.version)"
   ],
   "id": "ebb28e3176b2c20c"
  },
  {
   "metadata": {},
   "cell_type": "raw",
   "source": [
    "from google.colab import drive\n",
    "drive.mount('/content/drive')"
   ],
   "id": "c7373c1df267c496"
  },
  {
   "metadata": {},
   "cell_type": "raw",
   "source": [
    "import os\n",
    "!pip install torch_geometric\n",
    "!pip install pyg_lib torch_scatter torch_sparse torch_cluster torch_spline_conv -f https://data.pyg.org/whl/torch-2.4.0+cu121.html\n",
    "\n",
    "# 更改当前工作目录\n",
    "# os.chdir(\"/content/drive/MyDrive/ColabNotebooks/GNN/pyg_install-whl\")\n",
    "# !pip install pyg_lib-0.4.0+pt24cu121-cp310-cp310-linux_x86_64.whl\n",
    "# !pip install torch_spline_conv-1.2.2+pt24cu121-cp310-cp310-linux_x86_64.whl\n",
    "# !pip install torch_scatter-2.1.2+pt24cu121-cp310-cp310-linux_x86_64.whl\n",
    "# !pip install torch_sparse-0.6.18+pt24cu121-cp310-cp310-linux_x86_64.whl\n",
    "# !pip install torch_cluster-1.6.3+pt24cu121-cp310-cp310-linux_x86_64.whl\n",
    "\n",
    "!pip install torch-geometric-temporal\n",
    "# !pip install -q git+https://github.com/elmahyai/pytorch_geometric_temporal\n",
    "\n",
    "!pip install tensorboardX"
   ],
   "id": "ac2e74460319b0f6"
  },
  {
   "cell_type": "code",
   "id": "initial_id",
   "metadata": {
    "colab": {
     "base_uri": "https://localhost:8080/"
    },
    "id": "initial_id",
    "executionInfo": {
     "status": "ok",
     "timestamp": 1733381298540,
     "user_tz": -480,
     "elapsed": 4276,
     "user": {
      "displayName": "zheng haoxuan",
      "userId": "13442429265529431306"
     }
    },
    "outputId": "3c223a6e-95f7-4970-dbda-350251239879",
    "ExecuteTime": {
     "end_time": "2024-12-12T14:51:21.998666Z",
     "start_time": "2024-12-12T14:51:20.924947Z"
    }
   },
   "source": [
    "import os\n",
    "from time import time\n",
    "import numpy as np\n",
    "import matplotlib.pyplot as plt\n",
    "import networkx as nx\n",
    "\n",
    "import torch\n",
    "import torch.nn as nn\n",
    "import torch.optim as optim\n",
    "import torch.nn.functional as F\n",
    "\n",
    "USE_CUDA = torch.cuda.is_available()\n",
    "DEVICE = torch.device('cuda:0')\n",
    "print(\"CUDA:\", USE_CUDA, DEVICE)\n",
    "\n",
    "from tensorboardX import SummaryWriter\n",
    "\n",
    "sw = SummaryWriter(logdir='.', flush_secs=5)\n",
    "\n",
    "# import math\n",
    "# from typing import Optional, List, Union\n",
    "# from torch_geometric.data import Data\n",
    "# from torch_geometric.typing import OptTensor\n",
    "# from torch_geometric.nn.conv import MessagePassing\n",
    "# from torch_geometric.transforms import LaplacianLambdaMax\n",
    "# from torch_geometric.utils import remove_self_loops, add_self_loops, get_laplacian\n",
    "# from torch_geometric.utils import to_dense_adj"
   ],
   "outputs": [
    {
     "name": "stdout",
     "output_type": "stream",
     "text": [
      "CUDA: True cuda:0\n"
     ]
    }
   ],
   "execution_count": 1
  },
  {
   "metadata": {},
   "cell_type": "raw",
   "source": [
    "# 更改当前工作目录\n",
    "os.chdir(\"/content/drive/MyDrive/ColabNotebooks/pyg-ubuntu\")\n",
    "current_directory = os.getcwd()\n",
    "print(\"当前工作目录:\", current_directory)\n",
    "!ls"
   ],
   "id": "cc57880955f18399"
  },
  {
   "cell_type": "code",
   "id": "728facee-37c1-4bc2-b6d0-33c2827015a9",
   "metadata": {
    "id": "728facee-37c1-4bc2-b6d0-33c2827015a9",
    "executionInfo": {
     "status": "ok",
     "timestamp": 1733381298877,
     "user_tz": -480,
     "elapsed": 4,
     "user": {
      "displayName": "zheng haoxuan",
      "userId": "13442429265529431306"
     }
    },
    "ExecuteTime": {
     "end_time": "2024-12-12T14:51:22.009463Z",
     "start_time": "2024-12-12T14:51:22.002864Z"
    }
   },
   "source": [
    "'''\n",
    "加载图信号数据，并将其转换为 PyTorch 的 DataLoader\n",
    "流程：\n",
    "1.转换数据类型：将 NumPy 数组转换为 PyTorch 张量，并确保它们的数据类型为浮点数。\n",
    "2.移动到设备：将张量移动到指定的设备（如 GPU）。\n",
    "3.创建数据集：使用 TensorDataset 将输入张量和目标张量配对，创建一个数据集对象。\n",
    "4.创建数据加载器：使用 DataLoader 将数据集分成小批量，并设置是否打乱数据。\n",
    "'''\n",
    "\n",
    "\n",
    "def load_graphdata_channel1(graph_signal_matrix_filename, num_of_hours, batch_size,\n",
    "                            shuffle=True, DEVICE=torch.device('cuda:0')):\n",
    "    \"\"\"\n",
    "    :param graph_signal_matrix_filename: str\n",
    "    :param num_of_hours: int\n",
    "    :param num_of_days: int\n",
    "    :param num_of_weeks: int\n",
    "    :param DEVICE:\n",
    "    :param batch_size: int\n",
    "    shuffle：是否在训练数据加载器中打乱数据。\n",
    "\n",
    "    :return:\n",
    "    three DataLoaders, each dataloader contains:\n",
    "    test_x_tensor: (B, N_nodes, in_feature, T_input)\n",
    "    test_decoder_input_tensor: (B, N_nodes, T_output)\n",
    "    test_target_tensor: (B, N_nodes, T_output)\n",
    "    \"\"\"\n",
    "\n",
    "    print('load file:', graph_signal_matrix_filename)\n",
    "    file_data = np.load(graph_signal_matrix_filename, allow_pickle=True)\n",
    "    data = file_data['data'].item()\n",
    "\n",
    "    '''\n",
    "    torch.from_numpy 将 NumPy 数组转换为 PyTorch 张量。\n",
    "    .type(torch.FloatTensor) 将张量的数据类型转换为 FloatTensor，即 32 位浮点数\n",
    "    .to(DEVICE) 将张量移动到指定的设备（如 GPU 或 CPU）\n",
    "    torch.utils.data.TensorDataset 创建一个数据集对象，该对象将输入张量和目标张量配对,返回一个TensorDataset对象\n",
    "    TensorDataset 是PyTorch中的数据集类，用于将多个张量组合成一个数据集。每个样本由输入张量和目标张量组成。\n",
    "    torch.utils.data.DataLoader 创建一个数据加载器，用于批量加载数据\n",
    "    DataLoader 是PyTorch中的一个类，用于将数据集分成小批量，并在训练过程中方便地迭代数据。\n",
    "    '''\n",
    "\n",
    "    # ------- train_loader -------\n",
    "    # 将 NumPy 数组转换为 PyTorch 的 Tensor 并移动到指定设备\n",
    "    train_signal_0_tensor = torch.from_numpy(data['train']['signal_0']).type(torch.FloatTensor).to(DEVICE)\n",
    "    train_signal_1_tensor = torch.from_numpy(data['train']['signal_1']).type(torch.FloatTensor).to(DEVICE)\n",
    "    train_signal_2_tensor = torch.from_numpy(data['train']['signal_2']).type(torch.FloatTensor).to(DEVICE)\n",
    "    train_target_tensor = torch.from_numpy(data['train']['target']).type(torch.FloatTensor).to(DEVICE)\n",
    "    # 创建一个 TensorDataset\n",
    "    train_dataset = torch.utils.data.TensorDataset(train_signal_0_tensor, train_signal_1_tensor, train_signal_2_tensor,\n",
    "                                                   train_target_tensor)\n",
    "    # 创建 DataLoader\n",
    "    train_loader = torch.utils.data.DataLoader(train_dataset, batch_size=batch_size, shuffle=shuffle)\n",
    "\n",
    "    # ------- val_loader -------\n",
    "    val_signal_0_tensor = torch.from_numpy(data['val']['signal_0']).type(torch.FloatTensor).to(DEVICE)\n",
    "    val_signal_1_tensor = torch.from_numpy(data['val']['signal_1']).type(torch.FloatTensor).to(DEVICE)\n",
    "    val_signal_2_tensor = torch.from_numpy(data['val']['signal_2']).type(torch.FloatTensor).to(DEVICE)\n",
    "    val_target_tensor = torch.from_numpy(data['val']['target']).type(torch.FloatTensor).to(DEVICE)\n",
    "\n",
    "    val_dataset = torch.utils.data.TensorDataset(val_signal_0_tensor, val_signal_1_tensor, val_signal_2_tensor,\n",
    "                                                 val_target_tensor)\n",
    "\n",
    "    val_loader = torch.utils.data.DataLoader(val_dataset, batch_size=batch_size, shuffle=shuffle)\n",
    "\n",
    "    # ------- test_loader -------\n",
    "    test_signal_0_tensor = torch.from_numpy(data['test']['signal_0']).type(torch.FloatTensor).to(DEVICE)\n",
    "    test_signal_1_tensor = torch.from_numpy(data['test']['signal_1']).type(torch.FloatTensor).to(DEVICE)\n",
    "    test_signal_2_tensor = torch.from_numpy(data['test']['signal_2']).type(torch.FloatTensor).to(DEVICE)\n",
    "    test_target_tensor = torch.from_numpy(data['test']['target']).type(torch.FloatTensor).to(DEVICE)\n",
    "\n",
    "    test_dataset = torch.utils.data.TensorDataset(test_signal_0_tensor, test_signal_1_tensor, test_signal_2_tensor,\n",
    "                                                  test_target_tensor)\n",
    "\n",
    "    test_loader = torch.utils.data.DataLoader(test_dataset, batch_size=batch_size, shuffle=shuffle)\n",
    "\n",
    "    # mean std\n",
    "    stats_data = {}\n",
    "    for type_ in ['signal_0', 'signal_1', 'signal_2']:\n",
    "        stats = data['stats'][type_]\n",
    "        stats_data[type_ + '_mean'] = stats['_mean']\n",
    "        stats_data[type_ + '_std'] = stats['_std']\n",
    "\n",
    "    # print 打印数据尺寸\n",
    "    print('train:', train_signal_0_tensor.size(), train_target_tensor.size())\n",
    "    print('val:', val_signal_0_tensor.size(), val_target_tensor.size())\n",
    "    print('test:', test_signal_0_tensor.size(), test_target_tensor.size())\n",
    "    print('stats_data:', stats_data)\n",
    "\n",
    "    return train_loader, train_target_tensor, val_loader, val_target_tensor, test_loader, test_target_tensor, stats_data"
   ],
   "outputs": [],
   "execution_count": 2
  },
  {
   "cell_type": "code",
   "id": "cd1af1e2-dcd0-44d8-8520-0ad95aa118ca",
   "metadata": {
    "colab": {
     "base_uri": "https://localhost:8080/"
    },
    "id": "cd1af1e2-dcd0-44d8-8520-0ad95aa118ca",
    "executionInfo": {
     "status": "ok",
     "timestamp": 1733381300093,
     "user_tz": -480,
     "elapsed": 1219,
     "user": {
      "displayName": "zheng haoxuan",
      "userId": "13442429265529431306"
     }
    },
    "outputId": "928821ce-634f-42cd-b92a-ac9755b4440c",
    "ExecuteTime": {
     "end_time": "2024-12-12T14:51:22.191945Z",
     "start_time": "2024-12-12T14:51:22.075388Z"
    }
   },
   "source": [
    "graph_signal_matrix_filename = './data/38/38_quarter_single_16_18_20_dataset_astcgn.npz'\n",
    "batch_size = 32\n",
    "num_of_hours = 1\n",
    "\n",
    "train_loader, train_target_tensor, val_loader, val_target_tensor, test_loader, test_target_tensor, stats_data = load_graphdata_channel1(\n",
    "    graph_signal_matrix_filename, num_of_hours, batch_size)"
   ],
   "outputs": [
    {
     "name": "stdout",
     "output_type": "stream",
     "text": [
      "load file: ./data/38/38_quarter_single_16_18_20_dataset_astcgn.npz\n",
      "train: torch.Size([297, 38, 2, 5]) torch.Size([297, 38, 1])\n",
      "val: torch.Size([99, 38, 2, 5]) torch.Size([99, 38, 1])\n",
      "test: torch.Size([99, 38, 2, 5]) torch.Size([99, 38, 1])\n",
      "stats_data: {'signal_0_mean': array([[[[29.81448662],\n",
      "         [16.        ]]]]), 'signal_0_std': array([[[[7.38926896],\n",
      "         [0.        ]]]]), 'signal_1_mean': array([[[[30.01646199],\n",
      "         [18.        ]]]]), 'signal_1_std': array([[[[7.41955276],\n",
      "         [0.        ]]]]), 'signal_2_mean': array([[[[30.21835141],\n",
      "         [20.        ]]]]), 'signal_2_std': array([[[[7.45859301],\n",
      "         [0.        ]]]])}\n"
     ]
    }
   ],
   "execution_count": 3
  },
  {
   "cell_type": "code",
   "id": "00976f32-67b4-455e-8679-b94b1ebaba82",
   "metadata": {
    "id": "00976f32-67b4-455e-8679-b94b1ebaba82",
    "executionInfo": {
     "status": "ok",
     "timestamp": 1733381300093,
     "user_tz": -480,
     "elapsed": 3,
     "user": {
      "displayName": "zheng haoxuan",
      "userId": "13442429265529431306"
     }
    },
    "ExecuteTime": {
     "end_time": "2024-12-12T14:51:22.205557Z",
     "start_time": "2024-12-12T14:51:22.202378Z"
    }
   },
   "source": [
    "def get_adjacency_matrix(distance_df_filename, num_of_vertices, id_filename=None):\n",
    "    \"\"\"\n",
    "    Parameters\n",
    "    :param distance_df_filename:  str, path of the csv file contains edges information\n",
    "    :param num_of_vertices:  int, the number of vertices\n",
    "    :param id_filename:\n",
    "    ----------\n",
    "    Returns\n",
    "    \"\"\"\n",
    "    if 'npy' in distance_df_filename:\n",
    "        adj_mx = np.load(distance_df_filename)\n",
    "        return adj_mx, None\n",
    "    else:\n",
    "        import csv\n",
    "        A = np.zeros((int(num_of_vertices), int(num_of_vertices)), dtype=np.float32)\n",
    "        distaneA = np.zeros((int(num_of_vertices), int(num_of_vertices)), dtype=np.float32)\n",
    "        if id_filename:\n",
    "            with open(id_filename, 'r') as f:\n",
    "                id_dict = {int(i): idx for idx, i in enumerate(f.read().strip().split('\\n'))}  # 把节点id（idx）映射成从0开始的索引\n",
    "\n",
    "            with open(distance_df_filename, 'r') as f:\n",
    "                f.readline()\n",
    "                reader = csv.reader(f)\n",
    "                for row in reader:\n",
    "                    if len(row) != 3:\n",
    "                        continue\n",
    "                    i, j, distance = int(row[0]), int(row[1]), float(row[2])\n",
    "                    A[id_dict[i], id_dict[j]] = 1\n",
    "                    distaneA[id_dict[i], id_dict[j]] = distance\n",
    "            return A, distaneA\n",
    "\n",
    "        else:\n",
    "            with open(distance_df_filename, 'r') as f:\n",
    "                f.readline()\n",
    "                reader = csv.reader(f)\n",
    "                for row in reader:\n",
    "                    if len(row) != 3:\n",
    "                        continue\n",
    "                    i, j, distance = int(row[0]), int(row[1]), float(row[2])\n",
    "                    A[i, j] = 1\n",
    "                    distaneA[i, j] = distance\n",
    "            return A, distaneA"
   ],
   "outputs": [],
   "execution_count": 4
  },
  {
   "cell_type": "code",
   "id": "854a2a4b-e6d8-443b-b4f1-9b2a0ffa3d6a",
   "metadata": {
    "id": "854a2a4b-e6d8-443b-b4f1-9b2a0ffa3d6a",
    "executionInfo": {
     "status": "ok",
     "timestamp": 1733381300428,
     "user_tz": -480,
     "elapsed": 337,
     "user": {
      "displayName": "zheng haoxuan",
      "userId": "13442429265529431306"
     }
    },
    "ExecuteTime": {
     "end_time": "2024-12-12T14:51:22.251565Z",
     "start_time": "2024-12-12T14:51:22.247883Z"
    }
   },
   "source": [
    "id_filename = './data/38/38_id_filename.csv'\n",
    "# 邻接矩阵文件的路径，即存储交通网络连接信息的文件。\n",
    "adj_filename = './data/38/38_node_distance.csv'\n",
    "# num_of_vertices：节点的数量，即传感器的数量\n",
    "num_of_vertices = 38  #62为混凝土内温度节点数量\n",
    "# get_adjacency_matrix：用于读取邻接矩阵文件并生成邻接矩阵adj_mx和距离矩阵distance_mx。邻接矩阵adj_mx是一个66x66的矩阵，表示节点之间的连接关系。\n",
    "adj_mx, distance_mx = get_adjacency_matrix(adj_filename, num_of_vertices, id_filename)"
   ],
   "outputs": [],
   "execution_count": 5
  },
  {
   "metadata": {
    "id": "c4897f9a8e852758"
   },
   "cell_type": "markdown",
   "source": [
    "### 使用 networkx 库创建图并绘制出来。"
   ],
   "id": "c4897f9a8e852758"
  },
  {
   "cell_type": "code",
   "id": "ba3aea8f-ccab-4957-a5fe-0b21cf0f9dd1",
   "metadata": {
    "colab": {
     "base_uri": "https://localhost:8080/",
     "height": 516
    },
    "id": "ba3aea8f-ccab-4957-a5fe-0b21cf0f9dd1",
    "executionInfo": {
     "status": "ok",
     "timestamp": 1733381301029,
     "user_tz": -480,
     "elapsed": 603,
     "user": {
      "displayName": "zheng haoxuan",
      "userId": "13442429265529431306"
     }
    },
    "outputId": "e5e4ee8d-6629-490e-a481-08b44d5bd091",
    "ExecuteTime": {
     "end_time": "2024-12-12T14:51:22.342721Z",
     "start_time": "2024-12-12T14:51:22.296117Z"
    }
   },
   "source": [
    "# 使用 networkx 库创建图并绘制出来。\n",
    "# 找到邻接矩阵中值为1的位置，这些位置表示节点之间的连接。\n",
    "rows, cols = np.where(adj_mx == 1)\n",
    "# 将行和列索引组合成边的列表。\n",
    "edges = zip(rows.tolist(), cols.tolist())\n",
    "gr = nx.Graph()\n",
    "gr.add_edges_from(edges)\n",
    "nx.draw(gr, node_size=3)\n",
    "plt.show()"
   ],
   "outputs": [
    {
     "data": {
      "text/plain": [
       "<Figure size 640x480 with 1 Axes>"
      ],
      "image/png": "[encoded data removed]"
     },
     "metadata": {},
     "output_type": "display_data"
    }
   ],
   "execution_count": 6
  },
  {
   "metadata": {
    "id": "4bd123b1f809834c",
    "executionInfo": {
     "status": "ok",
     "timestamp": 1733381301029,
     "user_tz": -480,
     "elapsed": 8,
     "user": {
      "displayName": "zheng haoxuan",
      "userId": "13442429265529431306"
     }
    },
    "ExecuteTime": {
     "end_time": "2024-12-12T14:51:22.389113Z",
     "start_time": "2024-12-12T14:51:22.386589Z"
    }
   },
   "cell_type": "code",
   "source": [
    "# 创建PyTorch张量表示边的索引\n",
    "rows, cols = np.where(adj_mx == 1)\n",
    "edges = zip(rows.tolist(), cols.tolist())  # 将行和列索引组合成边的列表。\n",
    "# torch.LongTensor(np.array([rows, cols]))：将边的行和列索引转换为PyTorch的长整型张量。\n",
    "edge_index_data = torch.LongTensor(np.array([rows, cols])).to(DEVICE)"
   ],
   "id": "4bd123b1f809834c",
   "outputs": [],
   "execution_count": 7
  },
  {
   "metadata": {},
   "cell_type": "raw",
   "source": [
    "'--------------已废弃---------------'\n",
    "# from torch_geometric_temporal.nn.attention import ASTGCN\n",
    "# nb_block = 2\n",
    "# in_channels = 1\n",
    "# K = 3\n",
    "# nb_chev_filter = 64\n",
    "# nb_time_filter = 64\n",
    "# # time_strides = num_of_hours\n",
    "# time_strides = 1\n",
    "# num_for_predict = 3\n",
    "# len_input = 15\n",
    "# #L_tilde = scaled_Laplacian(adj_mx)\n",
    "# #cheb_polynomials = [torch.from_numpy(i).type(torch.FloatTensor).to(DEVICE) for i in cheb_polynomial(L_tilde, K)]\n",
    "#\n",
    "# # signal_0\n",
    "# net_0 = ASTGCN(nb_block, in_channels, K, nb_chev_filter, nb_time_filter, time_strides, num_for_predict, len_input,\n",
    "#                num_of_vertices).to(DEVICE)\n",
    "# '''\n",
    "# params:\n",
    "#     nb_block – Number of ASTGCN blocks in the model.\n",
    "#     in_channels – Number of input features.\n",
    "#     K – Order of Chebyshev polynomials. Degree is K-1.\n",
    "#     time_strides – Time strides during temporal convolution.\n",
    "#     num_for_predict – Number of predictions to make in the future.\n",
    "#     len_input – Length of the input sequence.\n",
    "#     num_of_vertices – Number of vertices in the graph.\n",
    "#     normalization – The normalization scheme for the graph\n",
    "# '''\n",
    "# print(net_0)"
   ],
   "id": "2e18fbbcff2c530"
  },
  {
   "metadata": {
    "id": "a46a9ad6dbb2a4dd",
    "executionInfo": {
     "status": "ok",
     "timestamp": 1733381301728,
     "user_tz": -480,
     "elapsed": 350,
     "user": {
      "displayName": "zheng haoxuan",
      "userId": "13442429265529431306"
     }
    },
    "ExecuteTime": {
     "end_time": "2024-12-12T14:51:22.480478Z",
     "start_time": "2024-12-12T14:51:22.438413Z"
    }
   },
   "cell_type": "code",
   "source": [
    "from model.ASTGCN import ASTGCN\n",
    "from lib.utils import scaled_Laplacian, cheb_polynomial\n",
    "\n",
    "num_for_predict = 3\n",
    "# in_channels = 1\n",
    "K = 3\n",
    "num_of_signal_0 = num_of_signal_1 = num_of_signal_2 = 1\n",
    "L_tilde = scaled_Laplacian(adj_mx)\n",
    "cheb_polynomials = [torch.from_numpy(i).type(torch.FloatTensor).to(DEVICE) for i in cheb_polynomial(L_tilde, K)]\n",
    "all_backbones = [\n",
    "    [\n",
    "        {\n",
    "            \"K\": K,\n",
    "            \"num_of_chev_filters\": 64,\n",
    "            \"num_of_time_filters\": 64,\n",
    "            \"time_conv_strides\": num_of_signal_0,\n",
    "            \"cheb_polynomials\": cheb_polynomials\n",
    "\n",
    "        },\n",
    "        {\n",
    "            \"K\": K,\n",
    "            \"num_of_chev_filters\": 64,\n",
    "            \"num_of_time_filters\": 64,\n",
    "            \"time_conv_strides\": 1,\n",
    "            \"cheb_polynomials\": cheb_polynomials\n",
    "\n",
    "        },\n",
    "    ],\n",
    "    [\n",
    "        {\n",
    "            \"K\": K,\n",
    "            \"num_of_chev_filters\": 64,\n",
    "            \"num_of_time_filters\": 64,\n",
    "            \"time_conv_strides\": num_of_signal_1,\n",
    "            \"cheb_polynomials\": cheb_polynomials\n",
    "\n",
    "        },\n",
    "        {\n",
    "            \"K\": K,\n",
    "            \"num_of_chev_filters\": 64,\n",
    "            \"num_of_time_filters\": 64,\n",
    "            \"time_conv_strides\": 1,\n",
    "            \"cheb_polynomials\": cheb_polynomials\n",
    "\n",
    "        },\n",
    "    ],\n",
    "    [\n",
    "        {\n",
    "            \"K\": K,\n",
    "            \"num_of_chev_filters\": 64,\n",
    "            \"num_of_time_filters\": 64,\n",
    "            \"time_conv_strides\": num_of_signal_2,\n",
    "            \"cheb_polynomials\": cheb_polynomials\n",
    "\n",
    "        },\n",
    "        {\n",
    "            \"K\": K,\n",
    "            \"num_of_chev_filters\": 64,\n",
    "            \"num_of_time_filters\": 64,\n",
    "            \"time_conv_strides\": 1,\n",
    "            \"cheb_polynomials\": cheb_polynomials\n",
    "\n",
    "        },\n",
    "    ],\n",
    "]"
   ],
   "id": "a46a9ad6dbb2a4dd",
   "outputs": [],
   "execution_count": 8
  },
  {
   "metadata": {
    "colab": {
     "base_uri": "https://localhost:8080/"
    },
    "id": "ac0982575e29a72c",
    "executionInfo": {
     "status": "ok",
     "timestamp": 1733383184401,
     "user_tz": -480,
     "elapsed": 338,
     "user": {
      "displayName": "zheng haoxuan",
      "userId": "13442429265529431306"
     }
    },
    "outputId": "6867145c-c19c-4539-b357-423350172c95",
    "ExecuteTime": {
     "end_time": "2024-12-12T14:51:22.502533Z",
     "start_time": "2024-12-12T14:51:22.494199Z"
    }
   },
   "cell_type": "code",
   "source": [
    "net = ASTGCN(num_for_predict, all_backbones).to(DEVICE)\n",
    "print(net)"
   ],
   "id": "ac0982575e29a72c",
   "outputs": [
    {
     "name": "stdout",
     "output_type": "stream",
     "text": [
      "ASTGCN(\n",
      "  (submodules): ModuleList(\n",
      "    (0-2): 3 x ASTGCNSubmodule(\n",
      "      (blocks): Sequential(\n",
      "        (ASTGCNBlock_0): ASTGCNBlock(\n",
      "          (SAt): SpatialAttentionLayer()\n",
      "          (TAt): TemporalAttentionLayer()\n",
      "          (cheb_conv_SAt): ChebConvWithSAt()\n",
      "          (time_conv): Conv2d(64, 64, kernel_size=(1, 3), stride=(1, 1), padding=(0, 1))\n",
      "          (residual_conv): Conv2d(2, 64, kernel_size=(1, 1), stride=(1, 1))\n",
      "          (ln): LayerNorm((64,), eps=1e-05, elementwise_affine=True)\n",
      "        )\n",
      "        (ASTGCNBlock_1): ASTGCNBlock(\n",
      "          (SAt): SpatialAttentionLayer()\n",
      "          (TAt): TemporalAttentionLayer()\n",
      "          (cheb_conv_SAt): ChebConvWithSAt()\n",
      "          (time_conv): Conv2d(64, 64, kernel_size=(1, 3), stride=(1, 1), padding=(0, 1))\n",
      "          (residual_conv): Conv2d(2, 64, kernel_size=(1, 1), stride=(1, 1))\n",
      "          (ln): LayerNorm((64,), eps=1e-05, elementwise_affine=True)\n",
      "        )\n",
      "      )\n",
      "      (final_conv): Conv2d(64, 3, kernel_size=(1, 64), stride=(1, 1))\n",
      "    )\n",
      "  )\n",
      ")\n"
     ]
    }
   ],
   "execution_count": 9
  },
  {
   "metadata": {
    "colab": {
     "base_uri": "https://localhost:8080/"
    },
    "collapsed": true,
    "id": "556a6ee2cd137967",
    "executionInfo": {
     "status": "ok",
     "timestamp": 1733383035165,
     "user_tz": -480,
     "elapsed": 436,
     "user": {
      "displayName": "zheng haoxuan",
      "userId": "13442429265529431306"
     }
    },
    "outputId": "471d8327-9e88-4dd3-85bc-be943b7dd91e",
    "ExecuteTime": {
     "end_time": "2024-12-12T14:51:22.539522Z",
     "start_time": "2024-12-12T14:51:22.536688Z"
    }
   },
   "cell_type": "code",
   "source": [
    "# 打印模型的所有参数及其名称\n",
    "for name, param in net.named_parameters():\n",
    "    print(f\"Layer: {name} | Shape: {param.shape} | Requires Grad: {param.requires_grad}\")"
   ],
   "id": "556a6ee2cd137967",
   "outputs": [
    {
     "name": "stdout",
     "output_type": "stream",
     "text": [
      "Layer: submodules.0.blocks.ASTGCNBlock_0.time_conv.weight | Shape: torch.Size([64, 64, 1, 3]) | Requires Grad: True\n",
      "Layer: submodules.0.blocks.ASTGCNBlock_0.time_conv.bias | Shape: torch.Size([64]) | Requires Grad: True\n",
      "Layer: submodules.0.blocks.ASTGCNBlock_0.residual_conv.weight | Shape: torch.Size([64, 2, 1, 1]) | Requires Grad: True\n",
      "Layer: submodules.0.blocks.ASTGCNBlock_0.residual_conv.bias | Shape: torch.Size([64]) | Requires Grad: True\n",
      "Layer: submodules.0.blocks.ASTGCNBlock_0.ln.weight | Shape: torch.Size([64]) | Requires Grad: True\n",
      "Layer: submodules.0.blocks.ASTGCNBlock_0.ln.bias | Shape: torch.Size([64]) | Requires Grad: True\n",
      "Layer: submodules.0.blocks.ASTGCNBlock_1.time_conv.weight | Shape: torch.Size([64, 64, 1, 3]) | Requires Grad: True\n",
      "Layer: submodules.0.blocks.ASTGCNBlock_1.time_conv.bias | Shape: torch.Size([64]) | Requires Grad: True\n",
      "Layer: submodules.0.blocks.ASTGCNBlock_1.residual_conv.weight | Shape: torch.Size([64, 2, 1, 1]) | Requires Grad: True\n",
      "Layer: submodules.0.blocks.ASTGCNBlock_1.residual_conv.bias | Shape: torch.Size([64]) | Requires Grad: True\n",
      "Layer: submodules.0.blocks.ASTGCNBlock_1.ln.weight | Shape: torch.Size([64]) | Requires Grad: True\n",
      "Layer: submodules.0.blocks.ASTGCNBlock_1.ln.bias | Shape: torch.Size([64]) | Requires Grad: True\n",
      "Layer: submodules.0.final_conv.weight | Shape: torch.Size([3, 64, 1, 64]) | Requires Grad: True\n",
      "Layer: submodules.0.final_conv.bias | Shape: torch.Size([3]) | Requires Grad: True\n",
      "Layer: submodules.1.blocks.ASTGCNBlock_0.time_conv.weight | Shape: torch.Size([64, 64, 1, 3]) | Requires Grad: True\n",
      "Layer: submodules.1.blocks.ASTGCNBlock_0.time_conv.bias | Shape: torch.Size([64]) | Requires Grad: True\n",
      "Layer: submodules.1.blocks.ASTGCNBlock_0.residual_conv.weight | Shape: torch.Size([64, 2, 1, 1]) | Requires Grad: True\n",
      "Layer: submodules.1.blocks.ASTGCNBlock_0.residual_conv.bias | Shape: torch.Size([64]) | Requires Grad: True\n",
      "Layer: submodules.1.blocks.ASTGCNBlock_0.ln.weight | Shape: torch.Size([64]) | Requires Grad: True\n",
      "Layer: submodules.1.blocks.ASTGCNBlock_0.ln.bias | Shape: torch.Size([64]) | Requires Grad: True\n",
      "Layer: submodules.1.blocks.ASTGCNBlock_1.time_conv.weight | Shape: torch.Size([64, 64, 1, 3]) | Requires Grad: True\n",
      "Layer: submodules.1.blocks.ASTGCNBlock_1.time_conv.bias | Shape: torch.Size([64]) | Requires Grad: True\n",
      "Layer: submodules.1.blocks.ASTGCNBlock_1.residual_conv.weight | Shape: torch.Size([64, 2, 1, 1]) | Requires Grad: True\n",
      "Layer: submodules.1.blocks.ASTGCNBlock_1.residual_conv.bias | Shape: torch.Size([64]) | Requires Grad: True\n",
      "Layer: submodules.1.blocks.ASTGCNBlock_1.ln.weight | Shape: torch.Size([64]) | Requires Grad: True\n",
      "Layer: submodules.1.blocks.ASTGCNBlock_1.ln.bias | Shape: torch.Size([64]) | Requires Grad: True\n",
      "Layer: submodules.1.final_conv.weight | Shape: torch.Size([3, 64, 1, 64]) | Requires Grad: True\n",
      "Layer: submodules.1.final_conv.bias | Shape: torch.Size([3]) | Requires Grad: True\n",
      "Layer: submodules.2.blocks.ASTGCNBlock_0.time_conv.weight | Shape: torch.Size([64, 64, 1, 3]) | Requires Grad: True\n",
      "Layer: submodules.2.blocks.ASTGCNBlock_0.time_conv.bias | Shape: torch.Size([64]) | Requires Grad: True\n",
      "Layer: submodules.2.blocks.ASTGCNBlock_0.residual_conv.weight | Shape: torch.Size([64, 2, 1, 1]) | Requires Grad: True\n",
      "Layer: submodules.2.blocks.ASTGCNBlock_0.residual_conv.bias | Shape: torch.Size([64]) | Requires Grad: True\n",
      "Layer: submodules.2.blocks.ASTGCNBlock_0.ln.weight | Shape: torch.Size([64]) | Requires Grad: True\n",
      "Layer: submodules.2.blocks.ASTGCNBlock_0.ln.bias | Shape: torch.Size([64]) | Requires Grad: True\n",
      "Layer: submodules.2.blocks.ASTGCNBlock_1.time_conv.weight | Shape: torch.Size([64, 64, 1, 3]) | Requires Grad: True\n",
      "Layer: submodules.2.blocks.ASTGCNBlock_1.time_conv.bias | Shape: torch.Size([64]) | Requires Grad: True\n",
      "Layer: submodules.2.blocks.ASTGCNBlock_1.residual_conv.weight | Shape: torch.Size([64, 2, 1, 1]) | Requires Grad: True\n",
      "Layer: submodules.2.blocks.ASTGCNBlock_1.residual_conv.bias | Shape: torch.Size([64]) | Requires Grad: True\n",
      "Layer: submodules.2.blocks.ASTGCNBlock_1.ln.weight | Shape: torch.Size([64]) | Requires Grad: True\n",
      "Layer: submodules.2.blocks.ASTGCNBlock_1.ln.bias | Shape: torch.Size([64]) | Requires Grad: True\n",
      "Layer: submodules.2.final_conv.weight | Shape: torch.Size([3, 64, 1, 64]) | Requires Grad: True\n",
      "Layer: submodules.2.final_conv.bias | Shape: torch.Size([3]) | Requires Grad: True\n"
     ]
    }
   ],
   "execution_count": 10
  },
  {
   "metadata": {
    "colab": {
     "base_uri": "https://localhost:8080/"
    },
    "id": "ff6e8dc7f85deee1",
    "executionInfo": {
     "status": "ok",
     "timestamp": 1733383197672,
     "user_tz": -480,
     "elapsed": 3951,
     "user": {
      "displayName": "zheng haoxuan",
      "userId": "13442429265529431306"
     }
    },
    "outputId": "65bae6e1-9cbc-478f-950e-4dcd56da938e",
    "ExecuteTime": {
     "end_time": "2024-12-12T14:51:23.015199Z",
     "start_time": "2024-12-12T14:51:22.587796Z"
    }
   },
   "cell_type": "code",
   "source": [
    "learning_rate = 0.0001\n",
    "optimizer = optim.Adam(net.parameters(), lr=learning_rate)\n",
    "\n",
    "print('Net\\'s state_dict:')\n",
    "total_param = 0\n",
    "'''\n",
    "state_dict() 方法返回一个字典，其中包含模型的所有参数和缓冲区\n",
    "param_tensor 是参数的名称。\n",
    "param_size 是参数张量的大小。\n",
    "param_device 是参数张量所在的设备。\n",
    "np.prod(param_size) 计算参数张量中所有元素的乘积，即参数的总数。\n",
    "'''\n",
    "for param_tensor in net.state_dict():\n",
    "    print(param_tensor, '\\t', net.state_dict()[param_tensor].size(), '\\t', net.state_dict()[param_tensor].device)\n",
    "    total_param += np.prod(net.state_dict()[param_tensor].size())\n",
    "print('Net\\'s total params:', total_param)\n",
    "#--------------------------------------------------\n",
    "print('Optimizer\\'s state_dict:')\n",
    "for var_name in optimizer.state_dict():\n",
    "    print(var_name, '\\t', optimizer.state_dict()[var_name])"
   ],
   "id": "ff6e8dc7f85deee1",
   "outputs": [
    {
     "name": "stdout",
     "output_type": "stream",
     "text": [
      "Net's state_dict:\n",
      "submodules.0.blocks.ASTGCNBlock_0.time_conv.weight \t torch.Size([64, 64, 1, 3]) \t cuda:0\n",
      "submodules.0.blocks.ASTGCNBlock_0.time_conv.bias \t torch.Size([64]) \t cuda:0\n",
      "submodules.0.blocks.ASTGCNBlock_0.residual_conv.weight \t torch.Size([64, 2, 1, 1]) \t cuda:0\n",
      "submodules.0.blocks.ASTGCNBlock_0.residual_conv.bias \t torch.Size([64]) \t cuda:0\n",
      "submodules.0.blocks.ASTGCNBlock_0.ln.weight \t torch.Size([64]) \t cuda:0\n",
      "submodules.0.blocks.ASTGCNBlock_0.ln.bias \t torch.Size([64]) \t cuda:0\n",
      "submodules.0.blocks.ASTGCNBlock_1.time_conv.weight \t torch.Size([64, 64, 1, 3]) \t cuda:0\n",
      "submodules.0.blocks.ASTGCNBlock_1.time_conv.bias \t torch.Size([64]) \t cuda:0\n",
      "submodules.0.blocks.ASTGCNBlock_1.residual_conv.weight \t torch.Size([64, 2, 1, 1]) \t cuda:0\n",
      "submodules.0.blocks.ASTGCNBlock_1.residual_conv.bias \t torch.Size([64]) \t cuda:0\n",
      "submodules.0.blocks.ASTGCNBlock_1.ln.weight \t torch.Size([64]) \t cuda:0\n",
      "submodules.0.blocks.ASTGCNBlock_1.ln.bias \t torch.Size([64]) \t cuda:0\n",
      "submodules.0.final_conv.weight \t torch.Size([3, 64, 1, 64]) \t cuda:0\n",
      "submodules.0.final_conv.bias \t torch.Size([3]) \t cuda:0\n",
      "submodules.1.blocks.ASTGCNBlock_0.time_conv.weight \t torch.Size([64, 64, 1, 3]) \t cuda:0\n",
      "submodules.1.blocks.ASTGCNBlock_0.time_conv.bias \t torch.Size([64]) \t cuda:0\n",
      "submodules.1.blocks.ASTGCNBlock_0.residual_conv.weight \t torch.Size([64, 2, 1, 1]) \t cuda:0\n",
      "submodules.1.blocks.ASTGCNBlock_0.residual_conv.bias \t torch.Size([64]) \t cuda:0\n",
      "submodules.1.blocks.ASTGCNBlock_0.ln.weight \t torch.Size([64]) \t cuda:0\n",
      "submodules.1.blocks.ASTGCNBlock_0.ln.bias \t torch.Size([64]) \t cuda:0\n",
      "submodules.1.blocks.ASTGCNBlock_1.time_conv.weight \t torch.Size([64, 64, 1, 3]) \t cuda:0\n",
      "submodules.1.blocks.ASTGCNBlock_1.time_conv.bias \t torch.Size([64]) \t cuda:0\n",
      "submodules.1.blocks.ASTGCNBlock_1.residual_conv.weight \t torch.Size([64, 2, 1, 1]) \t cuda:0\n",
      "submodules.1.blocks.ASTGCNBlock_1.residual_conv.bias \t torch.Size([64]) \t cuda:0\n",
      "submodules.1.blocks.ASTGCNBlock_1.ln.weight \t torch.Size([64]) \t cuda:0\n",
      "submodules.1.blocks.ASTGCNBlock_1.ln.bias \t torch.Size([64]) \t cuda:0\n",
      "submodules.1.final_conv.weight \t torch.Size([3, 64, 1, 64]) \t cuda:0\n",
      "submodules.1.final_conv.bias \t torch.Size([3]) \t cuda:0\n",
      "submodules.2.blocks.ASTGCNBlock_0.time_conv.weight \t torch.Size([64, 64, 1, 3]) \t cuda:0\n",
      "submodules.2.blocks.ASTGCNBlock_0.time_conv.bias \t torch.Size([64]) \t cuda:0\n",
      "submodules.2.blocks.ASTGCNBlock_0.residual_conv.weight \t torch.Size([64, 2, 1, 1]) \t cuda:0\n",
      "submodules.2.blocks.ASTGCNBlock_0.residual_conv.bias \t torch.Size([64]) \t cuda:0\n",
      "submodules.2.blocks.ASTGCNBlock_0.ln.weight \t torch.Size([64]) \t cuda:0\n",
      "submodules.2.blocks.ASTGCNBlock_0.ln.bias \t torch.Size([64]) \t cuda:0\n",
      "submodules.2.blocks.ASTGCNBlock_1.time_conv.weight \t torch.Size([64, 64, 1, 3]) \t cuda:0\n",
      "submodules.2.blocks.ASTGCNBlock_1.time_conv.bias \t torch.Size([64]) \t cuda:0\n",
      "submodules.2.blocks.ASTGCNBlock_1.residual_conv.weight \t torch.Size([64, 2, 1, 1]) \t cuda:0\n",
      "submodules.2.blocks.ASTGCNBlock_1.residual_conv.bias \t torch.Size([64]) \t cuda:0\n",
      "submodules.2.blocks.ASTGCNBlock_1.ln.weight \t torch.Size([64]) \t cuda:0\n",
      "submodules.2.blocks.ASTGCNBlock_1.ln.bias \t torch.Size([64]) \t cuda:0\n",
      "submodules.2.final_conv.weight \t torch.Size([3, 64, 1, 64]) \t cuda:0\n",
      "submodules.2.final_conv.bias \t torch.Size([3]) \t cuda:0\n",
      "Net's total params: 112905\n",
      "Optimizer's state_dict:\n",
      "state \t {}\n",
      "param_groups \t [{'lr': 0.0001, 'betas': (0.9, 0.999), 'eps': 1e-08, 'weight_decay': 0, 'amsgrad': False, 'maximize': False, 'foreach': None, 'capturable': False, 'differentiable': False, 'fused': None, 'params': [0, 1, 2, 3, 4, 5, 6, 7, 8, 9, 10, 11, 12, 13, 14, 15, 16, 17, 18, 19, 20, 21, 22, 23, 24, 25, 26, 27, 28, 29, 30, 31, 32, 33, 34, 35, 36, 37, 38, 39, 40, 41]}]\n"
     ]
    }
   ],
   "execution_count": 11
  },
  {
   "metadata": {
    "id": "e88604fa28faf102",
    "executionInfo": {
     "status": "ok",
     "timestamp": 1733383815234,
     "user_tz": -480,
     "elapsed": 355,
     "user": {
      "displayName": "zheng haoxuan",
      "userId": "13442429265529431306"
     }
    },
    "ExecuteTime": {
     "end_time": "2024-12-12T14:51:23.032815Z",
     "start_time": "2024-12-12T14:51:23.029890Z"
    }
   },
   "cell_type": "code",
   "source": [
    "def masked_mae(preds, labels, null_val=np.nan):\n",
    "    '''\n",
    "    :param: preds（预测值）\n",
    "            labels（真实标签）\n",
    "            null_val（表示无效值的标记，默认是 NaN）\n",
    "    '''\n",
    "    if np.isnan(null_val):\n",
    "        # 生成一个掩码 mask，掩码中的每个元素表示 labels 中对应位置是否不是 NaN（即 True 表示不是 NaN，False 表示是 NaN）\n",
    "        # ~ 按位取反运算符\n",
    "        mask = ~torch.isnan(labels)\n",
    "    else:\n",
    "        # 生成一个掩码 mask，掩码中的每个元素表示 labels 中对应位置是否不等于 null_val\n",
    "        mask = (labels != null_val)\n",
    "    mask = mask.float()\n",
    "    mask /= torch.mean((mask))\n",
    "\n",
    "    mask = torch.where(torch.isnan(mask), torch.zeros_like(mask), mask)\n",
    "    # 计算绝对误差: 计算预测值 preds 和真实标签 labels 之间的绝对误差\n",
    "\n",
    "    # print('preds.shape:', preds.shape)\n",
    "    # print('labels.shape:', labels.shape)\n",
    "\n",
    "    loss = torch.abs(preds - labels)\n",
    "    # 应用掩码: 将绝对误差与掩码相乘，这样掩码为 0 的位置（即无效值位置）的误差将被忽略（置为 0）\n",
    "    loss = loss * mask\n",
    "    # 处理误差中的 NaN 值: 将误差中的 NaN 值替换为 0。这是为了防止后续计算中出现 NaN 值\n",
    "    loss = torch.where(torch.isnan(loss), torch.zeros_like(loss), loss)\n",
    "    # 返回带掩码的 MAE: 计算并返回误差的均值，即带掩码的平均绝对误差\n",
    "    return torch.mean(loss)"
   ],
   "id": "e88604fa28faf102",
   "outputs": [],
   "execution_count": 12
  },
  {
   "metadata": {
    "id": "9f5aee486f293a99"
   },
   "cell_type": "markdown",
   "source": [
    "### RMSE（均方根误差）和 MAE（平均绝对误差）是两种常用的评估回归模型性能的指标。它们分别衡量预测值与实际值之间的差异，具有不同的特性和适用场景。\n",
    "---\n",
    "#### RMSE（Root Mean Squared Error）\n",
    "\n",
    "RMSE 是预测值与实际值之间的均方根误差，计算公式为：\n",
    "\n",
    "![image-20241107102637266](https://hexo-ufoozhenghao.oss-cn-beijing.aliyuncs.com/BlogHexo/image-20241107102637266.png)\n",
    "\n",
    "其中：\n",
    "\n",
    "- n*n* 是样本数量。\n",
    "- yi*y**i* 是第 i*i* 个样本的实际值。\n",
    "- y^i*y*^*i* 是第 i*i* 个样本的预测值。\n",
    "\n",
    "##### 特点\n",
    "\n",
    "- **敏感度**：对大的误差特别敏感，因为平方项会放大大的误差。\n",
    "- **单位**：与原始数据的单位相同。\n",
    "\n",
    "##### 适用场景\n",
    "\n",
    "- 当需要对大的误差进行特别关注时使用。\n",
    "- 更适合在误差呈正态分布时使用。\n",
    "\n",
    "#### MAE（Mean Absolute Error）\n",
    "\n",
    "MAE 是预测值与实际值之间的平均绝对误差，计算公式为：\n",
    "\n",
    "![image-20241107102501396](https://hexo-ufoozhenghao.oss-cn-beijing.aliyuncs.com/BlogHexo/image-20241107102501396.png)\n",
    "\n",
    "其中：\n",
    "\n",
    "- n*n* 是样本数量。\n",
    "- yi*y**i* 是第 i*i* 个样本的实际值。\n",
    "- y^i*y*^*i* 是第 i*i* 个样本的预测值。\n",
    "\n",
    "##### 特点\n",
    "\n",
    "- **敏感度**：对大的误差不如 RMSE 敏感，因为绝对值不会放大大的误差。\n",
    "- **单位**：与原始数据的单位相同。\n",
    "\n",
    "##### 适用场景\n",
    "\n",
    "- 当需要对所有误差进行均等关注时使用。\n",
    "- 更适合在误差分布较均匀时使用。\n",
    "\n",
    "#### 比较\n",
    "\n",
    "1. **对异常值的敏感度**：\n",
    "   - RMSE 对异常值更加敏感，因为平方项会放大大的误差。\n",
    "   - MAE 对异常值不如 RMSE 敏感，因为绝对值不会放大大的误差。\n",
    "2. **解释性**：\n",
    "   - RMSE 更容易解释，因为它与原始数据的单位相同，并且对大的误差更敏感。\n",
    "   - MAE 也容易解释，但它对所有误差的权重相同。\n",
    "3. **选择标准**：\n",
    "   - 如果希望对大的误差进行更多的惩罚，使用 RMSE。\n",
    "   - 如果希望对所有误差进行均等的权重，使用 MAE。\n",
    "\n",
    "### 使用掩码：适用于处理缺失数据或无效数据的场景，通过忽略无效数据点，提高模型的鲁棒性和灵活性。\n",
    "### 不使用掩码：适用于数据集完整且无缺失值的场景，损失函数直接应用于所有数据点。"
   ],
   "id": "9f5aee486f293a99"
  },
  {
   "metadata": {
    "id": "6f187528d49ead9d",
    "executionInfo": {
     "status": "ok",
     "timestamp": 1733383833768,
     "user_tz": -480,
     "elapsed": 349,
     "user": {
      "displayName": "zheng haoxuan",
      "userId": "13442429265529431306"
     }
    },
    "ExecuteTime": {
     "end_time": "2024-12-12T14:51:23.078508Z",
     "start_time": "2024-12-12T14:51:23.076248Z"
    }
   },
   "cell_type": "code",
   "source": [
    "masked_flag = 0\n",
    "criterion = nn.L1Loss().to(DEVICE)  # 初始化为 L1 损失函数（MAE，平均绝对误差）。\n",
    "criterion_masked = masked_mae\n",
    "loss_function = 'mse'\n",
    "\n",
    "metric_method = 'unmask'\n",
    "missing_value = 0.0\n",
    "\n",
    "if loss_function == 'masked_mse':\n",
    "    criterion_masked = masked_mse  #nn.MSELoss().to(DEVICE)\n",
    "    masked_flag = 1\n",
    "elif loss_function == 'masked_mae':\n",
    "    criterion_masked = masked_mae\n",
    "    masked_flag = 1\n",
    "elif loss_function == 'mae':\n",
    "    criterion = nn.L1Loss().to(DEVICE)  # MAE 损失函数\n",
    "    masked_flag = 0\n",
    "elif loss_function == 'rmse':\n",
    "    criterion = nn.MSELoss().to(DEVICE)  # MSE 损失函数\n",
    "    masked_flag = 0"
   ],
   "id": "6f187528d49ead9d",
   "outputs": [],
   "execution_count": 13
  },
  {
   "metadata": {
    "id": "86bbdfc1071212fd",
    "ExecuteTime": {
     "end_time": "2024-12-12T14:51:23.133707Z",
     "start_time": "2024-12-12T14:51:23.129425Z"
    }
   },
   "cell_type": "code",
   "source": [
    "def compute_val_loss(net, val_loader, criterion, masked_flag, missing_value=0.0, sw=sw, epoch=0, limit=None):\n",
    "    \"\"\"\n",
    "    for rnn, compute mean loss on validation set\n",
    "    :param epoch:\n",
    "    :param missing_value:\n",
    "    :param masked_flag:\n",
    "    :param net: model\n",
    "    :param val_loader: torch.utils.data.utils.DataLoader\n",
    "    :param criterion: torch.nn.MSELoss\n",
    "    :param sw: tensorboardX.SummaryWriter\n",
    "    :param global_step: int, current global_step\n",
    "    :param limit: int,\n",
    "    :return: val_loss\n",
    "    \"\"\"\n",
    "    # 将模型设置为评估模式 net.eval()\n",
    "    net.train(False)  # ensure dropout layers are in evaluation mode\n",
    "    with torch.no_grad():\n",
    "        val_loader_length = len(val_loader)  # nb of batch\n",
    "        tmp = []  # batch loss\n",
    "        for index, (val_0, val_1, val_2, val_target) in enumerate(val_loader):\n",
    "            print('index:', index)\n",
    "            outputs = net([val_0, val_1, val_2])\n",
    "            # 根据 masked_flag 来选择合适的损失函数。如果 masked_flag 为真，则使用带掩码的损失函数，否则使用标准损失函数。\n",
    "            if masked_flag:\n",
    "                loss = criterion(outputs, val_target, missing_value)\n",
    "            else:\n",
    "                loss = criterion(outputs, val_target)\n",
    "            tmp.append(loss.item())\n",
    "            if batch_index % 100 == 0:\n",
    "                print('validation batch %s / %s, loss: %.2f' % (batch_index + 1, val_loader_length, loss.item()))\n",
    "            if (limit is not None) and batch_index >= limit:\n",
    "                break\n",
    "\n",
    "        validation_loss = sum(tmp) / len(tmp)\n",
    "        sw.add_scalar(tag='validation_loss', value=validation_loss, global_step=epoch)\n",
    "    return validation_loss"
   ],
   "id": "86bbdfc1071212fd",
   "outputs": [],
   "execution_count": 14
  },
  {
   "metadata": {
    "id": "aafbe0016c8c3192",
    "ExecuteTime": {
     "end_time": "2024-12-12T14:51:23.182194Z",
     "start_time": "2024-12-12T14:51:23.178873Z"
    }
   },
   "cell_type": "code",
   "source": [
    "global_step = 0\n",
    "best_epoch = 0\n",
    "# np.inf 表示正无穷大\n",
    "best_val_loss = np.inf\n",
    "start_time = time()"
   ],
   "id": "aafbe0016c8c3192",
   "outputs": [],
   "execution_count": 15
  },
  {
   "metadata": {
    "id": "24843640ce613300"
   },
   "cell_type": "markdown",
   "source": [
    "astgcn.py:\n",
    "/home/nevo/miniconda3/envs/pyg-ubuntu/lib/python3.10/site-packages/torch_geometric_temporal/nn/attention/astgcn.py"
   ],
   "id": "24843640ce613300"
  },
  {
   "metadata": {
    "id": "65dba54e02357c50",
    "outputId": "a5cffac1-4545-4d20-dc94-3ee0e2d92bc4",
    "ExecuteTime": {
     "end_time": "2024-12-12T14:51:23.629413Z",
     "start_time": "2024-12-12T14:51:23.227186Z"
    }
   },
   "cell_type": "code",
   "source": [
    "# train model\n",
    "for epoch in range(200):\n",
    "    print('Epoch:', epoch)\n",
    "    params_filename = os.path.join('./data/38/train_params/', 'epoch_%s.params' % epoch)\n",
    "    masked_flag = 1\n",
    "    if masked_flag:\n",
    "        val_loss = compute_val_loss(net, val_loader, criterion_masked, masked_flag, missing_value, sw, epoch)\n",
    "    else:\n",
    "        val_loss = compute_val_loss(net, val_loader, criterion, masked_flag, missing_value, sw, epoch)\n",
    "\n",
    "    if val_loss < best_val_loss:\n",
    "        best_val_loss = val_loss\n",
    "        best_epoch = epoch\n",
    "        torch.save(net.state_dict(), params_filename)\n",
    "        print('save parameters to file: %s' % params_filename)\n",
    "\n",
    "    # 训练模式\n",
    "    net.train()  # ensure dropout layers are in train mode\n",
    "\n",
    "    for train_S0, train_S1, train_S2, train_Target, _ in train_loader:\n",
    "        optimizer.zero_grad()\n",
    "        outputs = net([train_S0, train_S1, train_S2])\n",
    "        if masked_flag:\n",
    "            loss = criterion_masked(outputs, train_Target, missing_value)\n",
    "        else:\n",
    "            loss = criterion(outputs, train_Target)\n",
    "\n",
    "        loss.backward()\n",
    "\n",
    "        optimizer.step()\n",
    "\n",
    "        training_loss = loss.item()\n",
    "\n",
    "        global_step += 1\n",
    "\n",
    "        sw.add_scalar('training_loss', training_loss, global_step)\n",
    "\n",
    "        if global_step % 200 == 0:\n",
    "            print('global step: %s, training loss: %.2f, time: %.2fs' % (global_step, training_loss, time() - start_time))"
   ],
   "id": "65dba54e02357c50",
   "outputs": [
    {
     "name": "stdout",
     "output_type": "stream",
     "text": [
      "Epoch: 0\n",
      "index: 0\n",
      "num_of_vertices: 38\n",
      "num_of_features: 2\n",
      "num_of_timesteps: 5\n",
      "x.permute(0, 3, 2, 1): torch.Size([32, 5, 2, 38])\n",
      "self.U_1: torch.Size([38])\n",
      "_lsh: torch.Size([32, 5, 2])\n",
      "self.U_2: torch.Size([2, 38])\n",
      "lhs: torch.Size([32, 5, 38])\n",
      "rhs: torch.Size([32, 38, 5])\n",
      "========================\n",
      "time_conv_output: torch.Size([32, 38, 64, 5])\n",
      "Processing in ASTGCNBlock_0\n",
      "x_residual: torch.Size([32, 38, 64, 5])\n"
     ]
    },
    {
     "ename": "RuntimeError",
     "evalue": "Given normalized_shape=[64], expected input with shape [*, 64], but got input of size[32, 38, 64, 5]",
     "output_type": "error",
     "traceback": [
      "\u001B[0;31m---------------------------------------------------------------------------\u001B[0m",
      "\u001B[0;31mRuntimeError\u001B[0m                              Traceback (most recent call last)",
      "Cell \u001B[0;32mIn[16], line 7\u001B[0m\n\u001B[1;32m      5\u001B[0m masked_flag \u001B[38;5;241m=\u001B[39m \u001B[38;5;241m1\u001B[39m\n\u001B[1;32m      6\u001B[0m \u001B[38;5;28;01mif\u001B[39;00m masked_flag:\n\u001B[0;32m----> 7\u001B[0m     val_loss \u001B[38;5;241m=\u001B[39m \u001B[43mcompute_val_loss\u001B[49m\u001B[43m(\u001B[49m\u001B[43mnet\u001B[49m\u001B[43m,\u001B[49m\u001B[43m \u001B[49m\u001B[43mval_loader\u001B[49m\u001B[43m,\u001B[49m\u001B[43m \u001B[49m\u001B[43mcriterion_masked\u001B[49m\u001B[43m,\u001B[49m\u001B[43m \u001B[49m\u001B[43mmasked_flag\u001B[49m\u001B[43m,\u001B[49m\u001B[43m \u001B[49m\u001B[43mmissing_value\u001B[49m\u001B[43m,\u001B[49m\u001B[43m \u001B[49m\u001B[43msw\u001B[49m\u001B[43m,\u001B[49m\u001B[43m \u001B[49m\u001B[43mepoch\u001B[49m\u001B[43m)\u001B[49m\n\u001B[1;32m      8\u001B[0m \u001B[38;5;28;01melse\u001B[39;00m:\n\u001B[1;32m      9\u001B[0m     val_loss \u001B[38;5;241m=\u001B[39m compute_val_loss(net, val_loader, criterion, masked_flag, missing_value, sw, epoch)\n",
      "Cell \u001B[0;32mIn[14], line 22\u001B[0m, in \u001B[0;36mcompute_val_loss\u001B[0;34m(net, val_loader, criterion, masked_flag, missing_value, sw, epoch, limit)\u001B[0m\n\u001B[1;32m     20\u001B[0m \u001B[38;5;28;01mfor\u001B[39;00m index, (val_0, val_1, val_2, val_target) \u001B[38;5;129;01min\u001B[39;00m \u001B[38;5;28menumerate\u001B[39m(val_loader):\n\u001B[1;32m     21\u001B[0m     \u001B[38;5;28mprint\u001B[39m(\u001B[38;5;124m'\u001B[39m\u001B[38;5;124mindex:\u001B[39m\u001B[38;5;124m'\u001B[39m, index)\n\u001B[0;32m---> 22\u001B[0m     outputs \u001B[38;5;241m=\u001B[39m \u001B[43mnet\u001B[49m\u001B[43m(\u001B[49m\u001B[43m[\u001B[49m\u001B[43mval_0\u001B[49m\u001B[43m,\u001B[49m\u001B[43m \u001B[49m\u001B[43mval_1\u001B[49m\u001B[43m,\u001B[49m\u001B[43m \u001B[49m\u001B[43mval_2\u001B[49m\u001B[43m]\u001B[49m\u001B[43m)\u001B[49m\n\u001B[1;32m     23\u001B[0m     \u001B[38;5;66;03m# 根据 masked_flag 来选择合适的损失函数。如果 masked_flag 为真，则使用带掩码的损失函数，否则使用标准损失函数。\u001B[39;00m\n\u001B[1;32m     24\u001B[0m     \u001B[38;5;28;01mif\u001B[39;00m masked_flag:\n",
      "File \u001B[0;32m/usr/local/lib/python3.12/dist-packages/torch/nn/modules/module.py:1736\u001B[0m, in \u001B[0;36mModule._wrapped_call_impl\u001B[0;34m(self, *args, **kwargs)\u001B[0m\n\u001B[1;32m   1734\u001B[0m     \u001B[38;5;28;01mreturn\u001B[39;00m \u001B[38;5;28mself\u001B[39m\u001B[38;5;241m.\u001B[39m_compiled_call_impl(\u001B[38;5;241m*\u001B[39margs, \u001B[38;5;241m*\u001B[39m\u001B[38;5;241m*\u001B[39mkwargs)  \u001B[38;5;66;03m# type: ignore[misc]\u001B[39;00m\n\u001B[1;32m   1735\u001B[0m \u001B[38;5;28;01melse\u001B[39;00m:\n\u001B[0;32m-> 1736\u001B[0m     \u001B[38;5;28;01mreturn\u001B[39;00m \u001B[38;5;28;43mself\u001B[39;49m\u001B[38;5;241;43m.\u001B[39;49m\u001B[43m_call_impl\u001B[49m\u001B[43m(\u001B[49m\u001B[38;5;241;43m*\u001B[39;49m\u001B[43margs\u001B[49m\u001B[43m,\u001B[49m\u001B[43m \u001B[49m\u001B[38;5;241;43m*\u001B[39;49m\u001B[38;5;241;43m*\u001B[39;49m\u001B[43mkwargs\u001B[49m\u001B[43m)\u001B[49m\n",
      "File \u001B[0;32m/usr/local/lib/python3.12/dist-packages/torch/nn/modules/module.py:1747\u001B[0m, in \u001B[0;36mModule._call_impl\u001B[0;34m(self, *args, **kwargs)\u001B[0m\n\u001B[1;32m   1742\u001B[0m \u001B[38;5;66;03m# If we don't have any hooks, we want to skip the rest of the logic in\u001B[39;00m\n\u001B[1;32m   1743\u001B[0m \u001B[38;5;66;03m# this function, and just call forward.\u001B[39;00m\n\u001B[1;32m   1744\u001B[0m \u001B[38;5;28;01mif\u001B[39;00m \u001B[38;5;129;01mnot\u001B[39;00m (\u001B[38;5;28mself\u001B[39m\u001B[38;5;241m.\u001B[39m_backward_hooks \u001B[38;5;129;01mor\u001B[39;00m \u001B[38;5;28mself\u001B[39m\u001B[38;5;241m.\u001B[39m_backward_pre_hooks \u001B[38;5;129;01mor\u001B[39;00m \u001B[38;5;28mself\u001B[39m\u001B[38;5;241m.\u001B[39m_forward_hooks \u001B[38;5;129;01mor\u001B[39;00m \u001B[38;5;28mself\u001B[39m\u001B[38;5;241m.\u001B[39m_forward_pre_hooks\n\u001B[1;32m   1745\u001B[0m         \u001B[38;5;129;01mor\u001B[39;00m _global_backward_pre_hooks \u001B[38;5;129;01mor\u001B[39;00m _global_backward_hooks\n\u001B[1;32m   1746\u001B[0m         \u001B[38;5;129;01mor\u001B[39;00m _global_forward_hooks \u001B[38;5;129;01mor\u001B[39;00m _global_forward_pre_hooks):\n\u001B[0;32m-> 1747\u001B[0m     \u001B[38;5;28;01mreturn\u001B[39;00m \u001B[43mforward_call\u001B[49m\u001B[43m(\u001B[49m\u001B[38;5;241;43m*\u001B[39;49m\u001B[43margs\u001B[49m\u001B[43m,\u001B[49m\u001B[43m \u001B[49m\u001B[38;5;241;43m*\u001B[39;49m\u001B[38;5;241;43m*\u001B[39;49m\u001B[43mkwargs\u001B[49m\u001B[43m)\u001B[49m\n\u001B[1;32m   1749\u001B[0m result \u001B[38;5;241m=\u001B[39m \u001B[38;5;28;01mNone\u001B[39;00m\n\u001B[1;32m   1750\u001B[0m called_always_called_hooks \u001B[38;5;241m=\u001B[39m \u001B[38;5;28mset\u001B[39m()\n",
      "File \u001B[0;32m~/pyg-ubuntu/model/ASTGCN.py:362\u001B[0m, in \u001B[0;36mASTGCN.forward\u001B[0;34m(self, x_list)\u001B[0m\n\u001B[1;32m    359\u001B[0m \u001B[38;5;28;01mif\u001B[39;00m \u001B[38;5;28mlen\u001B[39m(batch_size_set) \u001B[38;5;241m!=\u001B[39m \u001B[38;5;241m1\u001B[39m:\n\u001B[1;32m    360\u001B[0m     \u001B[38;5;28;01mraise\u001B[39;00m \u001B[38;5;167;01mValueError\u001B[39;00m(\u001B[38;5;124m\"\u001B[39m\u001B[38;5;124mInput values must have the same batch size!\u001B[39m\u001B[38;5;124m\"\u001B[39m)\n\u001B[0;32m--> 362\u001B[0m submodule_outputs \u001B[38;5;241m=\u001B[39m [\u001B[38;5;28;43mself\u001B[39;49m\u001B[38;5;241;43m.\u001B[39;49m\u001B[43msubmodules\u001B[49m\u001B[43m[\u001B[49m\u001B[43midx\u001B[49m\u001B[43m]\u001B[49m\u001B[43m(\u001B[49m\u001B[43mx_list\u001B[49m\u001B[43m[\u001B[49m\u001B[43midx\u001B[49m\u001B[43m]\u001B[49m\u001B[43m)\u001B[49m \u001B[38;5;28;01mfor\u001B[39;00m idx \u001B[38;5;129;01min\u001B[39;00m \u001B[38;5;28mrange\u001B[39m(\u001B[38;5;28mlen\u001B[39m(x_list))]\n\u001B[1;32m    364\u001B[0m \u001B[38;5;28mprint\u001B[39m(\u001B[38;5;124m'\u001B[39m\u001B[38;5;124msubmodule_outputs:\u001B[39m\u001B[38;5;124m'\u001B[39m, submodule_outputs)\n\u001B[1;32m    365\u001B[0m \u001B[38;5;28;01mreturn\u001B[39;00m torch\u001B[38;5;241m.\u001B[39msum(torch\u001B[38;5;241m.\u001B[39mstack(submodule_outputs), dim\u001B[38;5;241m=\u001B[39m\u001B[38;5;241m0\u001B[39m)\n",
      "File \u001B[0;32m/usr/local/lib/python3.12/dist-packages/torch/nn/modules/module.py:1736\u001B[0m, in \u001B[0;36mModule._wrapped_call_impl\u001B[0;34m(self, *args, **kwargs)\u001B[0m\n\u001B[1;32m   1734\u001B[0m     \u001B[38;5;28;01mreturn\u001B[39;00m \u001B[38;5;28mself\u001B[39m\u001B[38;5;241m.\u001B[39m_compiled_call_impl(\u001B[38;5;241m*\u001B[39margs, \u001B[38;5;241m*\u001B[39m\u001B[38;5;241m*\u001B[39mkwargs)  \u001B[38;5;66;03m# type: ignore[misc]\u001B[39;00m\n\u001B[1;32m   1735\u001B[0m \u001B[38;5;28;01melse\u001B[39;00m:\n\u001B[0;32m-> 1736\u001B[0m     \u001B[38;5;28;01mreturn\u001B[39;00m \u001B[38;5;28;43mself\u001B[39;49m\u001B[38;5;241;43m.\u001B[39;49m\u001B[43m_call_impl\u001B[49m\u001B[43m(\u001B[49m\u001B[38;5;241;43m*\u001B[39;49m\u001B[43margs\u001B[49m\u001B[43m,\u001B[49m\u001B[43m \u001B[49m\u001B[38;5;241;43m*\u001B[39;49m\u001B[38;5;241;43m*\u001B[39;49m\u001B[43mkwargs\u001B[49m\u001B[43m)\u001B[49m\n",
      "File \u001B[0;32m/usr/local/lib/python3.12/dist-packages/torch/nn/modules/module.py:1747\u001B[0m, in \u001B[0;36mModule._call_impl\u001B[0;34m(self, *args, **kwargs)\u001B[0m\n\u001B[1;32m   1742\u001B[0m \u001B[38;5;66;03m# If we don't have any hooks, we want to skip the rest of the logic in\u001B[39;00m\n\u001B[1;32m   1743\u001B[0m \u001B[38;5;66;03m# this function, and just call forward.\u001B[39;00m\n\u001B[1;32m   1744\u001B[0m \u001B[38;5;28;01mif\u001B[39;00m \u001B[38;5;129;01mnot\u001B[39;00m (\u001B[38;5;28mself\u001B[39m\u001B[38;5;241m.\u001B[39m_backward_hooks \u001B[38;5;129;01mor\u001B[39;00m \u001B[38;5;28mself\u001B[39m\u001B[38;5;241m.\u001B[39m_backward_pre_hooks \u001B[38;5;129;01mor\u001B[39;00m \u001B[38;5;28mself\u001B[39m\u001B[38;5;241m.\u001B[39m_forward_hooks \u001B[38;5;129;01mor\u001B[39;00m \u001B[38;5;28mself\u001B[39m\u001B[38;5;241m.\u001B[39m_forward_pre_hooks\n\u001B[1;32m   1745\u001B[0m         \u001B[38;5;129;01mor\u001B[39;00m _global_backward_pre_hooks \u001B[38;5;129;01mor\u001B[39;00m _global_backward_hooks\n\u001B[1;32m   1746\u001B[0m         \u001B[38;5;129;01mor\u001B[39;00m _global_forward_hooks \u001B[38;5;129;01mor\u001B[39;00m _global_forward_pre_hooks):\n\u001B[0;32m-> 1747\u001B[0m     \u001B[38;5;28;01mreturn\u001B[39;00m \u001B[43mforward_call\u001B[49m\u001B[43m(\u001B[49m\u001B[38;5;241;43m*\u001B[39;49m\u001B[43margs\u001B[49m\u001B[43m,\u001B[49m\u001B[43m \u001B[49m\u001B[38;5;241;43m*\u001B[39;49m\u001B[38;5;241;43m*\u001B[39;49m\u001B[43mkwargs\u001B[49m\u001B[43m)\u001B[49m\n\u001B[1;32m   1749\u001B[0m result \u001B[38;5;241m=\u001B[39m \u001B[38;5;28;01mNone\u001B[39;00m\n\u001B[1;32m   1750\u001B[0m called_always_called_hooks \u001B[38;5;241m=\u001B[39m \u001B[38;5;28mset\u001B[39m()\n",
      "File \u001B[0;32m~/pyg-ubuntu/model/ASTGCN.py:309\u001B[0m, in \u001B[0;36mASTGCNSubmodule.forward\u001B[0;34m(self, x)\u001B[0m\n\u001B[1;32m    297\u001B[0m \u001B[38;5;28;01mdef\u001B[39;00m \u001B[38;5;21mforward\u001B[39m(\u001B[38;5;28mself\u001B[39m, x):\n\u001B[1;32m    298\u001B[0m \u001B[38;5;250m    \u001B[39m\u001B[38;5;124;03m\"\"\"\u001B[39;00m\n\u001B[1;32m    299\u001B[0m \u001B[38;5;124;03m    Parameters\u001B[39;00m\n\u001B[1;32m    300\u001B[0m \u001B[38;5;124;03m    ----------\u001B[39;00m\n\u001B[0;32m   (...)\u001B[0m\n\u001B[1;32m    307\u001B[0m \u001B[38;5;124;03m    torch.Tensor, shape is (batch_size, num_of_vertices, num_for_prediction)\u001B[39;00m\n\u001B[1;32m    308\u001B[0m \u001B[38;5;124;03m    \"\"\"\u001B[39;00m\n\u001B[0;32m--> 309\u001B[0m     x \u001B[38;5;241m=\u001B[39m \u001B[38;5;28;43mself\u001B[39;49m\u001B[38;5;241;43m.\u001B[39;49m\u001B[43mblocks\u001B[49m\u001B[43m(\u001B[49m\u001B[43mx\u001B[49m\u001B[43m)\u001B[49m\n\u001B[1;32m    310\u001B[0m     module_output \u001B[38;5;241m=\u001B[39m \u001B[38;5;28mself\u001B[39m\u001B[38;5;241m.\u001B[39mfinal_conv(x\u001B[38;5;241m.\u001B[39mpermute(\u001B[38;5;241m0\u001B[39m, \u001B[38;5;241m3\u001B[39m, \u001B[38;5;241m1\u001B[39m, \u001B[38;5;241m2\u001B[39m))[:, :, :, \u001B[38;5;241m-\u001B[39m\u001B[38;5;241m1\u001B[39m]\u001B[38;5;241m.\u001B[39mpermute(\u001B[38;5;241m0\u001B[39m, \u001B[38;5;241m2\u001B[39m, \u001B[38;5;241m1\u001B[39m)\n\u001B[1;32m    311\u001B[0m     \u001B[38;5;28;01mreturn\u001B[39;00m module_output\n",
      "File \u001B[0;32m/usr/local/lib/python3.12/dist-packages/torch/nn/modules/module.py:1736\u001B[0m, in \u001B[0;36mModule._wrapped_call_impl\u001B[0;34m(self, *args, **kwargs)\u001B[0m\n\u001B[1;32m   1734\u001B[0m     \u001B[38;5;28;01mreturn\u001B[39;00m \u001B[38;5;28mself\u001B[39m\u001B[38;5;241m.\u001B[39m_compiled_call_impl(\u001B[38;5;241m*\u001B[39margs, \u001B[38;5;241m*\u001B[39m\u001B[38;5;241m*\u001B[39mkwargs)  \u001B[38;5;66;03m# type: ignore[misc]\u001B[39;00m\n\u001B[1;32m   1735\u001B[0m \u001B[38;5;28;01melse\u001B[39;00m:\n\u001B[0;32m-> 1736\u001B[0m     \u001B[38;5;28;01mreturn\u001B[39;00m \u001B[38;5;28;43mself\u001B[39;49m\u001B[38;5;241;43m.\u001B[39;49m\u001B[43m_call_impl\u001B[49m\u001B[43m(\u001B[49m\u001B[38;5;241;43m*\u001B[39;49m\u001B[43margs\u001B[49m\u001B[43m,\u001B[49m\u001B[43m \u001B[49m\u001B[38;5;241;43m*\u001B[39;49m\u001B[38;5;241;43m*\u001B[39;49m\u001B[43mkwargs\u001B[49m\u001B[43m)\u001B[49m\n",
      "File \u001B[0;32m/usr/local/lib/python3.12/dist-packages/torch/nn/modules/module.py:1747\u001B[0m, in \u001B[0;36mModule._call_impl\u001B[0;34m(self, *args, **kwargs)\u001B[0m\n\u001B[1;32m   1742\u001B[0m \u001B[38;5;66;03m# If we don't have any hooks, we want to skip the rest of the logic in\u001B[39;00m\n\u001B[1;32m   1743\u001B[0m \u001B[38;5;66;03m# this function, and just call forward.\u001B[39;00m\n\u001B[1;32m   1744\u001B[0m \u001B[38;5;28;01mif\u001B[39;00m \u001B[38;5;129;01mnot\u001B[39;00m (\u001B[38;5;28mself\u001B[39m\u001B[38;5;241m.\u001B[39m_backward_hooks \u001B[38;5;129;01mor\u001B[39;00m \u001B[38;5;28mself\u001B[39m\u001B[38;5;241m.\u001B[39m_backward_pre_hooks \u001B[38;5;129;01mor\u001B[39;00m \u001B[38;5;28mself\u001B[39m\u001B[38;5;241m.\u001B[39m_forward_hooks \u001B[38;5;129;01mor\u001B[39;00m \u001B[38;5;28mself\u001B[39m\u001B[38;5;241m.\u001B[39m_forward_pre_hooks\n\u001B[1;32m   1745\u001B[0m         \u001B[38;5;129;01mor\u001B[39;00m _global_backward_pre_hooks \u001B[38;5;129;01mor\u001B[39;00m _global_backward_hooks\n\u001B[1;32m   1746\u001B[0m         \u001B[38;5;129;01mor\u001B[39;00m _global_forward_hooks \u001B[38;5;129;01mor\u001B[39;00m _global_forward_pre_hooks):\n\u001B[0;32m-> 1747\u001B[0m     \u001B[38;5;28;01mreturn\u001B[39;00m \u001B[43mforward_call\u001B[49m\u001B[43m(\u001B[49m\u001B[38;5;241;43m*\u001B[39;49m\u001B[43margs\u001B[49m\u001B[43m,\u001B[49m\u001B[43m \u001B[49m\u001B[38;5;241;43m*\u001B[39;49m\u001B[38;5;241;43m*\u001B[39;49m\u001B[43mkwargs\u001B[49m\u001B[43m)\u001B[49m\n\u001B[1;32m   1749\u001B[0m result \u001B[38;5;241m=\u001B[39m \u001B[38;5;28;01mNone\u001B[39;00m\n\u001B[1;32m   1750\u001B[0m called_always_called_hooks \u001B[38;5;241m=\u001B[39m \u001B[38;5;28mset\u001B[39m()\n",
      "File \u001B[0;32m/usr/local/lib/python3.12/dist-packages/torch/nn/modules/container.py:250\u001B[0m, in \u001B[0;36mSequential.forward\u001B[0;34m(self, input)\u001B[0m\n\u001B[1;32m    248\u001B[0m \u001B[38;5;28;01mdef\u001B[39;00m \u001B[38;5;21mforward\u001B[39m(\u001B[38;5;28mself\u001B[39m, \u001B[38;5;28minput\u001B[39m):\n\u001B[1;32m    249\u001B[0m     \u001B[38;5;28;01mfor\u001B[39;00m module \u001B[38;5;129;01min\u001B[39;00m \u001B[38;5;28mself\u001B[39m:\n\u001B[0;32m--> 250\u001B[0m         \u001B[38;5;28minput\u001B[39m \u001B[38;5;241m=\u001B[39m \u001B[43mmodule\u001B[49m\u001B[43m(\u001B[49m\u001B[38;5;28;43minput\u001B[39;49m\u001B[43m)\u001B[49m\n\u001B[1;32m    251\u001B[0m     \u001B[38;5;28;01mreturn\u001B[39;00m \u001B[38;5;28minput\u001B[39m\n",
      "File \u001B[0;32m/usr/local/lib/python3.12/dist-packages/torch/nn/modules/module.py:1736\u001B[0m, in \u001B[0;36mModule._wrapped_call_impl\u001B[0;34m(self, *args, **kwargs)\u001B[0m\n\u001B[1;32m   1734\u001B[0m     \u001B[38;5;28;01mreturn\u001B[39;00m \u001B[38;5;28mself\u001B[39m\u001B[38;5;241m.\u001B[39m_compiled_call_impl(\u001B[38;5;241m*\u001B[39margs, \u001B[38;5;241m*\u001B[39m\u001B[38;5;241m*\u001B[39mkwargs)  \u001B[38;5;66;03m# type: ignore[misc]\u001B[39;00m\n\u001B[1;32m   1735\u001B[0m \u001B[38;5;28;01melse\u001B[39;00m:\n\u001B[0;32m-> 1736\u001B[0m     \u001B[38;5;28;01mreturn\u001B[39;00m \u001B[38;5;28;43mself\u001B[39;49m\u001B[38;5;241;43m.\u001B[39;49m\u001B[43m_call_impl\u001B[49m\u001B[43m(\u001B[49m\u001B[38;5;241;43m*\u001B[39;49m\u001B[43margs\u001B[49m\u001B[43m,\u001B[49m\u001B[43m \u001B[49m\u001B[38;5;241;43m*\u001B[39;49m\u001B[38;5;241;43m*\u001B[39;49m\u001B[43mkwargs\u001B[49m\u001B[43m)\u001B[49m\n",
      "File \u001B[0;32m/usr/local/lib/python3.12/dist-packages/torch/nn/modules/module.py:1747\u001B[0m, in \u001B[0;36mModule._call_impl\u001B[0;34m(self, *args, **kwargs)\u001B[0m\n\u001B[1;32m   1742\u001B[0m \u001B[38;5;66;03m# If we don't have any hooks, we want to skip the rest of the logic in\u001B[39;00m\n\u001B[1;32m   1743\u001B[0m \u001B[38;5;66;03m# this function, and just call forward.\u001B[39;00m\n\u001B[1;32m   1744\u001B[0m \u001B[38;5;28;01mif\u001B[39;00m \u001B[38;5;129;01mnot\u001B[39;00m (\u001B[38;5;28mself\u001B[39m\u001B[38;5;241m.\u001B[39m_backward_hooks \u001B[38;5;129;01mor\u001B[39;00m \u001B[38;5;28mself\u001B[39m\u001B[38;5;241m.\u001B[39m_backward_pre_hooks \u001B[38;5;129;01mor\u001B[39;00m \u001B[38;5;28mself\u001B[39m\u001B[38;5;241m.\u001B[39m_forward_hooks \u001B[38;5;129;01mor\u001B[39;00m \u001B[38;5;28mself\u001B[39m\u001B[38;5;241m.\u001B[39m_forward_pre_hooks\n\u001B[1;32m   1745\u001B[0m         \u001B[38;5;129;01mor\u001B[39;00m _global_backward_pre_hooks \u001B[38;5;129;01mor\u001B[39;00m _global_backward_hooks\n\u001B[1;32m   1746\u001B[0m         \u001B[38;5;129;01mor\u001B[39;00m _global_forward_hooks \u001B[38;5;129;01mor\u001B[39;00m _global_forward_pre_hooks):\n\u001B[0;32m-> 1747\u001B[0m     \u001B[38;5;28;01mreturn\u001B[39;00m \u001B[43mforward_call\u001B[49m\u001B[43m(\u001B[49m\u001B[38;5;241;43m*\u001B[39;49m\u001B[43margs\u001B[49m\u001B[43m,\u001B[49m\u001B[43m \u001B[49m\u001B[38;5;241;43m*\u001B[39;49m\u001B[38;5;241;43m*\u001B[39;49m\u001B[43mkwargs\u001B[49m\u001B[43m)\u001B[49m\n\u001B[1;32m   1749\u001B[0m result \u001B[38;5;241m=\u001B[39m \u001B[38;5;28;01mNone\u001B[39;00m\n\u001B[1;32m   1750\u001B[0m called_always_called_hooks \u001B[38;5;241m=\u001B[39m \u001B[38;5;28mset\u001B[39m()\n",
      "File \u001B[0;32m~/pyg-ubuntu/model/ASTGCN.py:266\u001B[0m, in \u001B[0;36mASTGCNBlock.forward\u001B[0;34m(self, x)\u001B[0m\n\u001B[1;32m    264\u001B[0m x_residual \u001B[38;5;241m=\u001B[39m (\u001B[38;5;28mself\u001B[39m\u001B[38;5;241m.\u001B[39mresidual_conv(x\u001B[38;5;241m.\u001B[39mpermute(\u001B[38;5;241m0\u001B[39m,\u001B[38;5;241m2\u001B[39m,\u001B[38;5;241m1\u001B[39m,\u001B[38;5;241m3\u001B[39m))\u001B[38;5;241m.\u001B[39mpermute(\u001B[38;5;241m0\u001B[39m,\u001B[38;5;241m2\u001B[39m,\u001B[38;5;241m1\u001B[39m,\u001B[38;5;241m3\u001B[39m))\n\u001B[1;32m    265\u001B[0m \u001B[38;5;28mprint\u001B[39m(\u001B[38;5;124m'\u001B[39m\u001B[38;5;124mx_residual:\u001B[39m\u001B[38;5;124m'\u001B[39m, x_residual\u001B[38;5;241m.\u001B[39mshape)\n\u001B[0;32m--> 266\u001B[0m x_residual \u001B[38;5;241m=\u001B[39m \u001B[38;5;28;43mself\u001B[39;49m\u001B[38;5;241;43m.\u001B[39;49m\u001B[43mln\u001B[49m\u001B[43m(\u001B[49m\u001B[43mF\u001B[49m\u001B[38;5;241;43m.\u001B[39;49m\u001B[43mrelu\u001B[49m\u001B[43m(\u001B[49m\u001B[43mx_residual\u001B[49m\u001B[43m \u001B[49m\u001B[38;5;241;43m+\u001B[39;49m\u001B[43m \u001B[49m\u001B[43mtime_conv_output\u001B[49m\u001B[43m)\u001B[49m\u001B[43m)\u001B[49m\n\u001B[1;32m    267\u001B[0m \u001B[38;5;66;03m# (b,F,N,T)->(b,T,N,F) -ln-> (b,T,N,F)->(b,N,F,T)\u001B[39;00m\n\u001B[1;32m    269\u001B[0m \u001B[38;5;28;01mreturn\u001B[39;00m x_residual\n",
      "File \u001B[0;32m/usr/local/lib/python3.12/dist-packages/torch/nn/modules/module.py:1736\u001B[0m, in \u001B[0;36mModule._wrapped_call_impl\u001B[0;34m(self, *args, **kwargs)\u001B[0m\n\u001B[1;32m   1734\u001B[0m     \u001B[38;5;28;01mreturn\u001B[39;00m \u001B[38;5;28mself\u001B[39m\u001B[38;5;241m.\u001B[39m_compiled_call_impl(\u001B[38;5;241m*\u001B[39margs, \u001B[38;5;241m*\u001B[39m\u001B[38;5;241m*\u001B[39mkwargs)  \u001B[38;5;66;03m# type: ignore[misc]\u001B[39;00m\n\u001B[1;32m   1735\u001B[0m \u001B[38;5;28;01melse\u001B[39;00m:\n\u001B[0;32m-> 1736\u001B[0m     \u001B[38;5;28;01mreturn\u001B[39;00m \u001B[38;5;28;43mself\u001B[39;49m\u001B[38;5;241;43m.\u001B[39;49m\u001B[43m_call_impl\u001B[49m\u001B[43m(\u001B[49m\u001B[38;5;241;43m*\u001B[39;49m\u001B[43margs\u001B[49m\u001B[43m,\u001B[49m\u001B[43m \u001B[49m\u001B[38;5;241;43m*\u001B[39;49m\u001B[38;5;241;43m*\u001B[39;49m\u001B[43mkwargs\u001B[49m\u001B[43m)\u001B[49m\n",
      "File \u001B[0;32m/usr/local/lib/python3.12/dist-packages/torch/nn/modules/module.py:1747\u001B[0m, in \u001B[0;36mModule._call_impl\u001B[0;34m(self, *args, **kwargs)\u001B[0m\n\u001B[1;32m   1742\u001B[0m \u001B[38;5;66;03m# If we don't have any hooks, we want to skip the rest of the logic in\u001B[39;00m\n\u001B[1;32m   1743\u001B[0m \u001B[38;5;66;03m# this function, and just call forward.\u001B[39;00m\n\u001B[1;32m   1744\u001B[0m \u001B[38;5;28;01mif\u001B[39;00m \u001B[38;5;129;01mnot\u001B[39;00m (\u001B[38;5;28mself\u001B[39m\u001B[38;5;241m.\u001B[39m_backward_hooks \u001B[38;5;129;01mor\u001B[39;00m \u001B[38;5;28mself\u001B[39m\u001B[38;5;241m.\u001B[39m_backward_pre_hooks \u001B[38;5;129;01mor\u001B[39;00m \u001B[38;5;28mself\u001B[39m\u001B[38;5;241m.\u001B[39m_forward_hooks \u001B[38;5;129;01mor\u001B[39;00m \u001B[38;5;28mself\u001B[39m\u001B[38;5;241m.\u001B[39m_forward_pre_hooks\n\u001B[1;32m   1745\u001B[0m         \u001B[38;5;129;01mor\u001B[39;00m _global_backward_pre_hooks \u001B[38;5;129;01mor\u001B[39;00m _global_backward_hooks\n\u001B[1;32m   1746\u001B[0m         \u001B[38;5;129;01mor\u001B[39;00m _global_forward_hooks \u001B[38;5;129;01mor\u001B[39;00m _global_forward_pre_hooks):\n\u001B[0;32m-> 1747\u001B[0m     \u001B[38;5;28;01mreturn\u001B[39;00m \u001B[43mforward_call\u001B[49m\u001B[43m(\u001B[49m\u001B[38;5;241;43m*\u001B[39;49m\u001B[43margs\u001B[49m\u001B[43m,\u001B[49m\u001B[43m \u001B[49m\u001B[38;5;241;43m*\u001B[39;49m\u001B[38;5;241;43m*\u001B[39;49m\u001B[43mkwargs\u001B[49m\u001B[43m)\u001B[49m\n\u001B[1;32m   1749\u001B[0m result \u001B[38;5;241m=\u001B[39m \u001B[38;5;28;01mNone\u001B[39;00m\n\u001B[1;32m   1750\u001B[0m called_always_called_hooks \u001B[38;5;241m=\u001B[39m \u001B[38;5;28mset\u001B[39m()\n",
      "File \u001B[0;32m/usr/local/lib/python3.12/dist-packages/torch/nn/modules/normalization.py:217\u001B[0m, in \u001B[0;36mLayerNorm.forward\u001B[0;34m(self, input)\u001B[0m\n\u001B[1;32m    216\u001B[0m \u001B[38;5;28;01mdef\u001B[39;00m \u001B[38;5;21mforward\u001B[39m(\u001B[38;5;28mself\u001B[39m, \u001B[38;5;28minput\u001B[39m: Tensor) \u001B[38;5;241m-\u001B[39m\u001B[38;5;241m>\u001B[39m Tensor:\n\u001B[0;32m--> 217\u001B[0m     \u001B[38;5;28;01mreturn\u001B[39;00m \u001B[43mF\u001B[49m\u001B[38;5;241;43m.\u001B[39;49m\u001B[43mlayer_norm\u001B[49m\u001B[43m(\u001B[49m\n\u001B[1;32m    218\u001B[0m \u001B[43m        \u001B[49m\u001B[38;5;28;43minput\u001B[39;49m\u001B[43m,\u001B[49m\u001B[43m \u001B[49m\u001B[38;5;28;43mself\u001B[39;49m\u001B[38;5;241;43m.\u001B[39;49m\u001B[43mnormalized_shape\u001B[49m\u001B[43m,\u001B[49m\u001B[43m \u001B[49m\u001B[38;5;28;43mself\u001B[39;49m\u001B[38;5;241;43m.\u001B[39;49m\u001B[43mweight\u001B[49m\u001B[43m,\u001B[49m\u001B[43m \u001B[49m\u001B[38;5;28;43mself\u001B[39;49m\u001B[38;5;241;43m.\u001B[39;49m\u001B[43mbias\u001B[49m\u001B[43m,\u001B[49m\u001B[43m \u001B[49m\u001B[38;5;28;43mself\u001B[39;49m\u001B[38;5;241;43m.\u001B[39;49m\u001B[43meps\u001B[49m\n\u001B[1;32m    219\u001B[0m \u001B[43m    \u001B[49m\u001B[43m)\u001B[49m\n",
      "File \u001B[0;32m/usr/local/lib/python3.12/dist-packages/torch/nn/functional.py:2910\u001B[0m, in \u001B[0;36mlayer_norm\u001B[0;34m(input, normalized_shape, weight, bias, eps)\u001B[0m\n\u001B[1;32m   2900\u001B[0m \u001B[38;5;28;01mif\u001B[39;00m has_torch_function_variadic(\u001B[38;5;28minput\u001B[39m, weight, bias):\n\u001B[1;32m   2901\u001B[0m     \u001B[38;5;28;01mreturn\u001B[39;00m handle_torch_function(\n\u001B[1;32m   2902\u001B[0m         layer_norm,\n\u001B[1;32m   2903\u001B[0m         (\u001B[38;5;28minput\u001B[39m, weight, bias),\n\u001B[0;32m   (...)\u001B[0m\n\u001B[1;32m   2908\u001B[0m         eps\u001B[38;5;241m=\u001B[39meps,\n\u001B[1;32m   2909\u001B[0m     )\n\u001B[0;32m-> 2910\u001B[0m \u001B[38;5;28;01mreturn\u001B[39;00m \u001B[43mtorch\u001B[49m\u001B[38;5;241;43m.\u001B[39;49m\u001B[43mlayer_norm\u001B[49m\u001B[43m(\u001B[49m\n\u001B[1;32m   2911\u001B[0m \u001B[43m    \u001B[49m\u001B[38;5;28;43minput\u001B[39;49m\u001B[43m,\u001B[49m\u001B[43m \u001B[49m\u001B[43mnormalized_shape\u001B[49m\u001B[43m,\u001B[49m\u001B[43m \u001B[49m\u001B[43mweight\u001B[49m\u001B[43m,\u001B[49m\u001B[43m \u001B[49m\u001B[43mbias\u001B[49m\u001B[43m,\u001B[49m\u001B[43m \u001B[49m\u001B[43meps\u001B[49m\u001B[43m,\u001B[49m\u001B[43m \u001B[49m\u001B[43mtorch\u001B[49m\u001B[38;5;241;43m.\u001B[39;49m\u001B[43mbackends\u001B[49m\u001B[38;5;241;43m.\u001B[39;49m\u001B[43mcudnn\u001B[49m\u001B[38;5;241;43m.\u001B[39;49m\u001B[43menabled\u001B[49m\n\u001B[1;32m   2912\u001B[0m \u001B[43m\u001B[49m\u001B[43m)\u001B[49m\n",
      "\u001B[0;31mRuntimeError\u001B[0m: Given normalized_shape=[64], expected input with shape [*, 64], but got input of size[32, 38, 64, 5]"
     ]
    }
   ],
   "execution_count": 16
  },
  {
   "metadata": {
    "id": "b1912e37c5103150",
    "outputId": "5bc30f14-0483-4854-9e0f-6e09cc619715"
   },
   "cell_type": "code",
   "source": [
    "net.train(False)  # ensure dropout layers are in evaluation mode\n",
    "with torch.no_grad():\n",
    "    test_loader_length = len(test_loader)  # nb of batch\n",
    "    tmp = []  # batch loss\n",
    "    for batch_index, batch_data in enumerate(test_loader):\n",
    "        encoder_inputs, labels = batch_data\n",
    "        outputs = net(encoder_inputs, edge_index_data)\n",
    "        loss = criterion(outputs, labels)\n",
    "        tmp.append(loss.item())\n",
    "        if batch_index % 100 == 0:\n",
    "            print('test_loss batch %s / %s, loss: %.2f' % (batch_index + 1, test_loader_length, loss.item()))\n",
    "\n",
    "    test_loss = sum(tmp) / len(tmp)\n",
    "    sw.add_scalar('test_loss', test_loss, epoch)\n",
    "print(test_loss)"
   ],
   "id": "b1912e37c5103150",
   "outputs": [],
   "execution_count": null
  },
  {
   "metadata": {
    "id": "a8131a468e81f7f9"
   },
   "cell_type": "markdown",
   "source": [
    "### Pickig a random time point and visualizing the predictions of the first 50 detectors"
   ],
   "id": "a8131a468e81f7f9"
  },
  {
   "metadata": {
    "id": "7dff9c5f00cd83fe",
    "outputId": "32723e83-4361-44e2-fcb6-cd46c6c20d05"
   },
   "cell_type": "code",
   "source": [
    "sample_output = outputs[0]  # prediction\n",
    "sample_labels = labels[0]  # truth\n",
    "print(sample_output.shape, sample_labels.shape)\n",
    "sample_labels[0][1]"
   ],
   "id": "7dff9c5f00cd83fe",
   "outputs": [],
   "execution_count": null
  },
  {
   "metadata": {
    "id": "ef3906e90f37da88",
    "outputId": "4a02c06d-9be6-4ca8-a6e0-fd8876d128f0"
   },
   "cell_type": "code",
   "source": [
    "from matplotlib.pyplot import figure\n",
    "\n",
    "figure(figsize=(30, 4), dpi=80)\n",
    "for i in range(50):\n",
    "    new_i = i * 3  # 调整步长为 3，以匹配 y 数据的长度\n",
    "    plt.plot(range(0 + new_i, 3 + new_i), sample_output[i].detach().cpu().numpy(), color='red')\n",
    "    plt.plot(range(0 + new_i, 3 + new_i), sample_labels[i].cpu().numpy(), color='blue')\n",
    "plt.show()"
   ],
   "id": "ef3906e90f37da88",
   "outputs": [],
   "execution_count": null
  },
  {
   "metadata": {
    "id": "9f2f38c44d032dba"
   },
   "cell_type": "code",
   "source": [],
   "id": "9f2f38c44d032dba",
   "outputs": [],
   "execution_count": null
  }
 ],
 "metadata": {
  "kernelspec": {
   "display_name": "Python 3 (ipykernel)",
   "name": "python3",
   "language": "python"
  },
  "language_info": {
   "name": "python"
  },
  "colab": {
   "provenance": [],
   "gpuType": "T4"
  },
  "accelerator": "GPU"
 },
 "nbformat": 4,
 "nbformat_minor": 5
}
